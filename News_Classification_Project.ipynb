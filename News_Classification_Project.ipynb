{
  "cells": [
    {
      "cell_type": "markdown",
      "metadata": {
        "id": "xRSX3E9tM5Fy"
      },
      "source": [
        "# Objective\n",
        "Develop a machine learning model that can accurately classify news articles into predefined\n",
        "categories. This task simulates the process of identifying various use cases of generative AI in textual data and aligns well with the focus on understanding AI deployment across different sectors.\n",
        "\n",
        "## Timeline\n",
        "Please complete the assessment in no more than 90 minutes. We know this is an open-ended project, and you could take many different approaches, some of which may be more time-consuming than others. A standardized duration helps ensure that we can fairly evaluate all candidates.\n",
        "\n",
        "\n",
        "## Work Product\n",
        "You may use Google Colab or publish your work to a repo. We prefer the repo to showcase your work and organizational skills, but we need you to stay within the 90-minute window.\n"
      ]
    },
    {
      "cell_type": "markdown",
      "metadata": {
        "id": "W8XPmqubNDKw"
      },
      "source": [
        "# Dataset\n",
        "Utilize one of the following datasets available on Kaggle:\n",
        "- [News Category Dataset](https://www.kaggle.com/datasets/rmisra/news-category-dataset)\n",
        "- [BBC News Classification Dataset](https://www.kaggle.com/c/learn-ai-bbc)\n"
      ]
    },
    {
      "cell_type": "markdown",
      "metadata": {
        "id": "fZ_alkQ4N7Aj"
      },
      "source": [
        "# Task Requirements\n",
        "\n",
        "\n",
        "- Data Preprocessing\n",
        "  - Load the dataset using pandas.\n",
        "  - Handle missing values if any, and remove duplicate entries.\n",
        "  - Normalize the text (convert to lowercase, remove punctuation and numbers).\n",
        "  - Tokenize the text and remove stopwords.\n",
        "\n",
        "- Feature Engineering\n",
        "  - Convert the cleaned text data into numerical features using one of the following techniques:\n",
        "    - TF-IDF Vectorization.\n",
        "    - Countvectorizer\n",
        "    - Consider experimenting with word embeddings for advanced feature extraction.\n",
        "\n",
        "- Model Building\n",
        "  - Split the dataset into training and testing sets.\n",
        "  - Build at least two different models:\n",
        "  - A simpler model (e.g., Logistic Regression or Naive Bayes).\n",
        "  - A more complex model (e.g., Random Forest or a neural network model).\n",
        "  - Train these models on the training data.\n",
        "\n",
        "- Model Evaluation\n",
        "  - Evaluate the models using metrics such as accuracy, precision, recall, and F1-score.\n",
        "  - Use a confusion matrix to provide a visual understanding of the model performance.\n"
      ]
    },
    {
      "cell_type": "markdown",
      "metadata": {
        "id": "JelWKx3aOy7h"
      },
      "source": [
        "# Deliverables\n",
        "\n",
        "- A Jupyter notebook with implemented code, detailed comments, and visualizations.\n",
        "- A comprehensive report summarizing the methodology, results, and insights. The report should discuss:\n",
        "  - Steps taken in data preprocessing and feature engineering.\n",
        "  - Comparison between the models used.\n",
        "  - Analysis of model performance with supporting visualizations.\n",
        "  - Conclusions and recommendations for model deployment.\n"
      ]
    },
    {
      "cell_type": "markdown",
      "metadata": {
        "id": "OH6IUQ3QPHxa"
      },
      "source": [
        "# Evaluation Criteria\n",
        "- **Correctness and Completeness**: All stages of the project (from data loading to model evaluation) should be logically and correctly implemented.\n",
        "- **Model Performance and Metrics**: Selection of appropriate metrics for evaluating model performance and a thorough analysis of results.\n",
        "- **Quality of Code**: The code should be clean, well-documented, and easy to understand.\n",
        "- **Depth of Analysis in the Report**: The report should provide deep insights into the project, clearly communicating the steps, findings, and recommendations."
      ]
    },
    {
      "cell_type": "markdown",
      "metadata": {
        "id": "HabD9a0U_q9k"
      },
      "source": [
        "# Imports"
      ]
    },
    {
      "cell_type": "code",
      "execution_count": 1,
      "metadata": {
        "id": "AHFuGtLS_snz"
      },
      "outputs": [],
      "source": [
        "# Add imports below\n",
        "# python modules\n",
        "import numpy as np\n",
        "import pandas as pd\n",
        "import string\n",
        "import re\n",
        "import shutil\n",
        "import matplotlib.pyplot as plt \n",
        "\n",
        "# nlp libraries\n",
        "import nltk\n",
        "from nltk.corpus import stopwords\n",
        "import sklearn\n",
        "from sklearn.preprocessing import LabelEncoder  \n",
        "from sklearn import metrics\n",
        "from sklearn.metrics import classification_report, confusion_matrix, accuracy_score\n",
        "from sklearn.feature_extraction.text import TfidfVectorizer\n",
        "from sklearn import svm\n",
        "\n",
        "# Tensorflow related\n",
        "import tensorflow as tf\n",
        "from tensorflow.keras import layers\n",
        "from tensorflow.keras import losses"
      ]
    },
    {
      "cell_type": "markdown",
      "metadata": {
        "id": "11xRfo2QP0hC"
      },
      "source": [
        "# Data Preprocessing"
      ]
    },
    {
      "cell_type": "code",
      "execution_count": 2,
      "metadata": {
        "id": "8Q388N3AQJ9P"
      },
      "outputs": [],
      "source": [
        "# Load Dataset\n",
        "# I am using BBC Dataset which has 5 classes. It's a supervised learning problem.\n",
        "# This dataset has 1490 training and 735 test (without labels)\n",
        "train_df = pd.read_csv(\"BBC_News_Train.csv\")\n",
        "test_df = pd.read_csv(\"BBC_New_Test.csv\")"
      ]
    },
    {
      "cell_type": "code",
      "execution_count": 3,
      "metadata": {},
      "outputs": [
        {
          "name": "stdout",
          "output_type": "stream",
          "text": [
            "<class 'pandas.core.frame.DataFrame'>\n",
            "RangeIndex: 1490 entries, 0 to 1489\n",
            "Data columns (total 3 columns):\n",
            " #   Column     Non-Null Count  Dtype \n",
            "---  ------     --------------  ----- \n",
            " 0   ArticleId  1490 non-null   int64 \n",
            " 1   Text       1490 non-null   object\n",
            " 2   Category   1490 non-null   object\n",
            "dtypes: int64(1), object(2)\n",
            "memory usage: 35.1+ KB\n"
          ]
        }
      ],
      "source": [
        "train_df.info()"
      ]
    },
    {
      "cell_type": "code",
      "execution_count": 4,
      "metadata": {},
      "outputs": [
        {
          "data": {
            "text/html": [
              "<div>\n",
              "<style scoped>\n",
              "    .dataframe tbody tr th:only-of-type {\n",
              "        vertical-align: middle;\n",
              "    }\n",
              "\n",
              "    .dataframe tbody tr th {\n",
              "        vertical-align: top;\n",
              "    }\n",
              "\n",
              "    .dataframe thead th {\n",
              "        text-align: right;\n",
              "    }\n",
              "</style>\n",
              "<table border=\"1\" class=\"dataframe\">\n",
              "  <thead>\n",
              "    <tr style=\"text-align: right;\">\n",
              "      <th></th>\n",
              "      <th>ArticleId</th>\n",
              "      <th>Text</th>\n",
              "      <th>Category</th>\n",
              "    </tr>\n",
              "  </thead>\n",
              "  <tbody>\n",
              "    <tr>\n",
              "      <th>0</th>\n",
              "      <td>1833</td>\n",
              "      <td>worldcom ex-boss launches defence lawyers defe...</td>\n",
              "      <td>business</td>\n",
              "    </tr>\n",
              "    <tr>\n",
              "      <th>1</th>\n",
              "      <td>154</td>\n",
              "      <td>german business confidence slides german busin...</td>\n",
              "      <td>business</td>\n",
              "    </tr>\n",
              "    <tr>\n",
              "      <th>2</th>\n",
              "      <td>1101</td>\n",
              "      <td>bbc poll indicates economic gloom citizens in ...</td>\n",
              "      <td>business</td>\n",
              "    </tr>\n",
              "    <tr>\n",
              "      <th>3</th>\n",
              "      <td>1976</td>\n",
              "      <td>lifestyle  governs mobile choice  faster  bett...</td>\n",
              "      <td>tech</td>\n",
              "    </tr>\n",
              "    <tr>\n",
              "      <th>4</th>\n",
              "      <td>917</td>\n",
              "      <td>enron bosses in $168m payout eighteen former e...</td>\n",
              "      <td>business</td>\n",
              "    </tr>\n",
              "  </tbody>\n",
              "</table>\n",
              "</div>"
            ],
            "text/plain": [
              "   ArticleId                                               Text  Category\n",
              "0       1833  worldcom ex-boss launches defence lawyers defe...  business\n",
              "1        154  german business confidence slides german busin...  business\n",
              "2       1101  bbc poll indicates economic gloom citizens in ...  business\n",
              "3       1976  lifestyle  governs mobile choice  faster  bett...      tech\n",
              "4        917  enron bosses in $168m payout eighteen former e...  business"
            ]
          },
          "execution_count": 4,
          "metadata": {},
          "output_type": "execute_result"
        }
      ],
      "source": [
        "train_df.head()"
      ]
    },
    {
      "cell_type": "code",
      "execution_count": 5,
      "metadata": {},
      "outputs": [
        {
          "data": {
            "text/plain": [
              "1440"
            ]
          },
          "execution_count": 5,
          "metadata": {},
          "output_type": "execute_result"
        }
      ],
      "source": [
        "#are there any duplicate values\n",
        "len(train_df['Text'].unique())"
      ]
    },
    {
      "cell_type": "code",
      "execution_count": 6,
      "metadata": {},
      "outputs": [
        {
          "data": {
            "text/plain": [
              "1490"
            ]
          },
          "execution_count": 6,
          "metadata": {},
          "output_type": "execute_result"
        }
      ],
      "source": [
        "len(train_df['ArticleId'].unique())"
      ]
    },
    {
      "cell_type": "code",
      "execution_count": 7,
      "metadata": {},
      "outputs": [
        {
          "name": "stdout",
          "output_type": "stream",
          "text": [
            "['business' 'tech' 'politics' 'sport' 'entertainment']\n",
            "5\n"
          ]
        }
      ],
      "source": [
        "print(train_df['Category'].unique())\n",
        "print(len(train_df['Category'].unique()))"
      ]
    },
    {
      "cell_type": "code",
      "execution_count": 8,
      "metadata": {},
      "outputs": [
        {
          "data": {
            "text/plain": [
              "True"
            ]
          },
          "execution_count": 8,
          "metadata": {},
          "output_type": "execute_result"
        }
      ],
      "source": [
        "train_df.duplicated(subset=['Text']).any()"
      ]
    },
    {
      "cell_type": "code",
      "execution_count": 9,
      "metadata": {},
      "outputs": [
        {
          "data": {
            "text/plain": [
              "True"
            ]
          },
          "execution_count": 9,
          "metadata": {},
          "output_type": "execute_result"
        }
      ],
      "source": [
        "test_df.duplicated(subset=['Text']).any()"
      ]
    },
    {
      "cell_type": "code",
      "execution_count": 10,
      "metadata": {},
      "outputs": [
        {
          "name": "stdout",
          "output_type": "stream",
          "text": [
            "<class 'pandas.core.frame.DataFrame'>\n",
            "RangeIndex: 735 entries, 0 to 734\n",
            "Data columns (total 2 columns):\n",
            " #   Column     Non-Null Count  Dtype \n",
            "---  ------     --------------  ----- \n",
            " 0   ArticleId  735 non-null    int64 \n",
            " 1   Text       735 non-null    object\n",
            "dtypes: int64(1), object(1)\n",
            "memory usage: 11.6+ KB\n"
          ]
        }
      ],
      "source": [
        "test_df.info()"
      ]
    },
    {
      "cell_type": "code",
      "execution_count": 11,
      "metadata": {},
      "outputs": [],
      "source": [
        "# there are duplicate rows in the training data\n",
        "# drop the duplicates as since redundant\n",
        "train_df.drop_duplicates(subset=['Text'], inplace=True)"
      ]
    },
    {
      "cell_type": "code",
      "execution_count": 12,
      "metadata": {},
      "outputs": [
        {
          "name": "stdout",
          "output_type": "stream",
          "text": [
            "<class 'pandas.core.frame.DataFrame'>\n",
            "Index: 1440 entries, 0 to 1489\n",
            "Data columns (total 3 columns):\n",
            " #   Column     Non-Null Count  Dtype \n",
            "---  ------     --------------  ----- \n",
            " 0   ArticleId  1440 non-null   int64 \n",
            " 1   Text       1440 non-null   object\n",
            " 2   Category   1440 non-null   object\n",
            "dtypes: int64(1), object(2)\n",
            "memory usage: 45.0+ KB\n"
          ]
        }
      ],
      "source": [
        "train_df.info()"
      ]
    },
    {
      "cell_type": "code",
      "execution_count": 13,
      "metadata": {},
      "outputs": [
        {
          "data": {
            "text/html": [
              "<div>\n",
              "<style scoped>\n",
              "    .dataframe tbody tr th:only-of-type {\n",
              "        vertical-align: middle;\n",
              "    }\n",
              "\n",
              "    .dataframe tbody tr th {\n",
              "        vertical-align: top;\n",
              "    }\n",
              "\n",
              "    .dataframe thead th {\n",
              "        text-align: right;\n",
              "    }\n",
              "</style>\n",
              "<table border=\"1\" class=\"dataframe\">\n",
              "  <thead>\n",
              "    <tr style=\"text-align: right;\">\n",
              "      <th></th>\n",
              "      <th>ArticleId</th>\n",
              "      <th>Text</th>\n",
              "    </tr>\n",
              "    <tr>\n",
              "      <th>Category</th>\n",
              "      <th></th>\n",
              "      <th></th>\n",
              "    </tr>\n",
              "  </thead>\n",
              "  <tbody>\n",
              "    <tr>\n",
              "      <th>business</th>\n",
              "      <td>335</td>\n",
              "      <td>335</td>\n",
              "    </tr>\n",
              "    <tr>\n",
              "      <th>entertainment</th>\n",
              "      <td>263</td>\n",
              "      <td>263</td>\n",
              "    </tr>\n",
              "    <tr>\n",
              "      <th>politics</th>\n",
              "      <td>266</td>\n",
              "      <td>266</td>\n",
              "    </tr>\n",
              "    <tr>\n",
              "      <th>sport</th>\n",
              "      <td>342</td>\n",
              "      <td>342</td>\n",
              "    </tr>\n",
              "    <tr>\n",
              "      <th>tech</th>\n",
              "      <td>234</td>\n",
              "      <td>234</td>\n",
              "    </tr>\n",
              "  </tbody>\n",
              "</table>\n",
              "</div>"
            ],
            "text/plain": [
              "               ArticleId  Text\n",
              "Category                      \n",
              "business             335   335\n",
              "entertainment        263   263\n",
              "politics             266   266\n",
              "sport                342   342\n",
              "tech                 234   234"
            ]
          },
          "execution_count": 13,
          "metadata": {},
          "output_type": "execute_result"
        }
      ],
      "source": [
        "# Check the class (im) balance\n",
        "train_df.groupby('Category').count()\n",
        "# results show almost balance classes, though there is a room\n",
        "# balancing could be done either by reducing some samples from classes with high samples, \n",
        "# or augmenting/increasing samples from the classes with low samples\n",
        "# Another way to improve the class balance is to regularize the classes by setting a weighting in the loss function"
      ]
    },
    {
      "cell_type": "code",
      "execution_count": 14,
      "metadata": {
        "id": "n_Un1Q_YQUjv"
      },
      "outputs": [],
      "source": [
        "# Handle Missing Values"
      ]
    },
    {
      "cell_type": "code",
      "execution_count": 15,
      "metadata": {},
      "outputs": [
        {
          "data": {
            "text/html": [
              "<div>\n",
              "<style scoped>\n",
              "    .dataframe tbody tr th:only-of-type {\n",
              "        vertical-align: middle;\n",
              "    }\n",
              "\n",
              "    .dataframe tbody tr th {\n",
              "        vertical-align: top;\n",
              "    }\n",
              "\n",
              "    .dataframe thead th {\n",
              "        text-align: right;\n",
              "    }\n",
              "</style>\n",
              "<table border=\"1\" class=\"dataframe\">\n",
              "  <thead>\n",
              "    <tr style=\"text-align: right;\">\n",
              "      <th></th>\n",
              "      <th>ArticleId</th>\n",
              "      <th>Text</th>\n",
              "      <th>Category</th>\n",
              "    </tr>\n",
              "  </thead>\n",
              "  <tbody>\n",
              "    <tr>\n",
              "      <th>0</th>\n",
              "      <td>1833</td>\n",
              "      <td>worldcom ex-boss launches defence lawyers defe...</td>\n",
              "      <td>business</td>\n",
              "    </tr>\n",
              "    <tr>\n",
              "      <th>1</th>\n",
              "      <td>154</td>\n",
              "      <td>german business confidence slides german busin...</td>\n",
              "      <td>business</td>\n",
              "    </tr>\n",
              "    <tr>\n",
              "      <th>2</th>\n",
              "      <td>1101</td>\n",
              "      <td>bbc poll indicates economic gloom citizens in ...</td>\n",
              "      <td>business</td>\n",
              "    </tr>\n",
              "    <tr>\n",
              "      <th>3</th>\n",
              "      <td>1976</td>\n",
              "      <td>lifestyle  governs mobile choice  faster  bett...</td>\n",
              "      <td>tech</td>\n",
              "    </tr>\n",
              "    <tr>\n",
              "      <th>4</th>\n",
              "      <td>917</td>\n",
              "      <td>enron bosses in $168m payout eighteen former e...</td>\n",
              "      <td>business</td>\n",
              "    </tr>\n",
              "  </tbody>\n",
              "</table>\n",
              "</div>"
            ],
            "text/plain": [
              "   ArticleId                                               Text  Category\n",
              "0       1833  worldcom ex-boss launches defence lawyers defe...  business\n",
              "1        154  german business confidence slides german busin...  business\n",
              "2       1101  bbc poll indicates economic gloom citizens in ...  business\n",
              "3       1976  lifestyle  governs mobile choice  faster  bett...      tech\n",
              "4        917  enron bosses in $168m payout eighteen former e...  business"
            ]
          },
          "execution_count": 15,
          "metadata": {},
          "output_type": "execute_result"
        }
      ],
      "source": [
        "train_df.head()"
      ]
    },
    {
      "cell_type": "code",
      "execution_count": 16,
      "metadata": {},
      "outputs": [
        {
          "data": {
            "text/html": [
              "<div>\n",
              "<style scoped>\n",
              "    .dataframe tbody tr th:only-of-type {\n",
              "        vertical-align: middle;\n",
              "    }\n",
              "\n",
              "    .dataframe tbody tr th {\n",
              "        vertical-align: top;\n",
              "    }\n",
              "\n",
              "    .dataframe thead th {\n",
              "        text-align: right;\n",
              "    }\n",
              "</style>\n",
              "<table border=\"1\" class=\"dataframe\">\n",
              "  <thead>\n",
              "    <tr style=\"text-align: right;\">\n",
              "      <th></th>\n",
              "      <th>ArticleId</th>\n",
              "      <th>Text</th>\n",
              "      <th>Category</th>\n",
              "    </tr>\n",
              "  </thead>\n",
              "  <tbody>\n",
              "    <tr>\n",
              "      <th>1485</th>\n",
              "      <td>857</td>\n",
              "      <td>double eviction from big brother model caprice...</td>\n",
              "      <td>entertainment</td>\n",
              "    </tr>\n",
              "    <tr>\n",
              "      <th>1486</th>\n",
              "      <td>325</td>\n",
              "      <td>dj double act revamp chart show dj duo jk and ...</td>\n",
              "      <td>entertainment</td>\n",
              "    </tr>\n",
              "    <tr>\n",
              "      <th>1487</th>\n",
              "      <td>1590</td>\n",
              "      <td>weak dollar hits reuters revenues at media gro...</td>\n",
              "      <td>business</td>\n",
              "    </tr>\n",
              "    <tr>\n",
              "      <th>1488</th>\n",
              "      <td>1587</td>\n",
              "      <td>apple ipod family expands market apple has exp...</td>\n",
              "      <td>tech</td>\n",
              "    </tr>\n",
              "    <tr>\n",
              "      <th>1489</th>\n",
              "      <td>538</td>\n",
              "      <td>santy worm makes unwelcome visit thousands of ...</td>\n",
              "      <td>tech</td>\n",
              "    </tr>\n",
              "  </tbody>\n",
              "</table>\n",
              "</div>"
            ],
            "text/plain": [
              "      ArticleId                                               Text  \\\n",
              "1485        857  double eviction from big brother model caprice...   \n",
              "1486        325  dj double act revamp chart show dj duo jk and ...   \n",
              "1487       1590  weak dollar hits reuters revenues at media gro...   \n",
              "1488       1587  apple ipod family expands market apple has exp...   \n",
              "1489        538  santy worm makes unwelcome visit thousands of ...   \n",
              "\n",
              "           Category  \n",
              "1485  entertainment  \n",
              "1486  entertainment  \n",
              "1487       business  \n",
              "1488           tech  \n",
              "1489           tech  "
            ]
          },
          "execution_count": 16,
          "metadata": {},
          "output_type": "execute_result"
        }
      ],
      "source": [
        "train_df.tail()"
      ]
    },
    {
      "cell_type": "code",
      "execution_count": 17,
      "metadata": {},
      "outputs": [],
      "source": [
        "# Create new columns to store the clean text without changing the original text/label\n",
        "train_df['CText'] = train_df['Text']\n",
        "test_df['CText'] = test_df['Text']\n",
        "train_df['Label'] = train_df['Category']"
      ]
    },
    {
      "cell_type": "code",
      "execution_count": 18,
      "metadata": {},
      "outputs": [],
      "source": [
        "# Create an integral labels for the string classes\n",
        "le = LabelEncoder()\n",
        "train_df['Label'] = le.fit_transform(train_df['Label'])"
      ]
    },
    {
      "cell_type": "code",
      "execution_count": 19,
      "metadata": {},
      "outputs": [
        {
          "name": "stdout",
          "output_type": "stream",
          "text": [
            "['business' 'tech' 'politics' 'sport' 'entertainment']\n",
            "{0: 'business', 4: 'tech', 2: 'politics', 3: 'sport', 1: 'entertainment'}\n"
          ]
        }
      ],
      "source": [
        "# Also, store the reverse  mapping from the integral labels to the strings\n",
        "l_decode = le.inverse_transform(train_df['Label'].unique())\n",
        "print(l_decode)\n",
        "label_encoding_map = dict(zip(train_df['Label'].unique(), l_decode))\n",
        "print(label_encoding_map)"
      ]
    },
    {
      "cell_type": "code",
      "execution_count": 20,
      "metadata": {},
      "outputs": [
        {
          "data": {
            "text/html": [
              "<div>\n",
              "<style scoped>\n",
              "    .dataframe tbody tr th:only-of-type {\n",
              "        vertical-align: middle;\n",
              "    }\n",
              "\n",
              "    .dataframe tbody tr th {\n",
              "        vertical-align: top;\n",
              "    }\n",
              "\n",
              "    .dataframe thead th {\n",
              "        text-align: right;\n",
              "    }\n",
              "</style>\n",
              "<table border=\"1\" class=\"dataframe\">\n",
              "  <thead>\n",
              "    <tr style=\"text-align: right;\">\n",
              "      <th></th>\n",
              "      <th>ArticleId</th>\n",
              "      <th>Text</th>\n",
              "      <th>Category</th>\n",
              "      <th>CText</th>\n",
              "      <th>Label</th>\n",
              "    </tr>\n",
              "  </thead>\n",
              "  <tbody>\n",
              "    <tr>\n",
              "      <th>0</th>\n",
              "      <td>1833</td>\n",
              "      <td>worldcom ex-boss launches defence lawyers defe...</td>\n",
              "      <td>business</td>\n",
              "      <td>worldcom ex-boss launches defence lawyers defe...</td>\n",
              "      <td>0</td>\n",
              "    </tr>\n",
              "    <tr>\n",
              "      <th>1</th>\n",
              "      <td>154</td>\n",
              "      <td>german business confidence slides german busin...</td>\n",
              "      <td>business</td>\n",
              "      <td>german business confidence slides german busin...</td>\n",
              "      <td>0</td>\n",
              "    </tr>\n",
              "    <tr>\n",
              "      <th>2</th>\n",
              "      <td>1101</td>\n",
              "      <td>bbc poll indicates economic gloom citizens in ...</td>\n",
              "      <td>business</td>\n",
              "      <td>bbc poll indicates economic gloom citizens in ...</td>\n",
              "      <td>0</td>\n",
              "    </tr>\n",
              "    <tr>\n",
              "      <th>3</th>\n",
              "      <td>1976</td>\n",
              "      <td>lifestyle  governs mobile choice  faster  bett...</td>\n",
              "      <td>tech</td>\n",
              "      <td>lifestyle  governs mobile choice  faster  bett...</td>\n",
              "      <td>4</td>\n",
              "    </tr>\n",
              "    <tr>\n",
              "      <th>4</th>\n",
              "      <td>917</td>\n",
              "      <td>enron bosses in $168m payout eighteen former e...</td>\n",
              "      <td>business</td>\n",
              "      <td>enron bosses in $168m payout eighteen former e...</td>\n",
              "      <td>0</td>\n",
              "    </tr>\n",
              "    <tr>\n",
              "      <th>...</th>\n",
              "      <td>...</td>\n",
              "      <td>...</td>\n",
              "      <td>...</td>\n",
              "      <td>...</td>\n",
              "      <td>...</td>\n",
              "    </tr>\n",
              "    <tr>\n",
              "      <th>1485</th>\n",
              "      <td>857</td>\n",
              "      <td>double eviction from big brother model caprice...</td>\n",
              "      <td>entertainment</td>\n",
              "      <td>double eviction from big brother model caprice...</td>\n",
              "      <td>1</td>\n",
              "    </tr>\n",
              "    <tr>\n",
              "      <th>1486</th>\n",
              "      <td>325</td>\n",
              "      <td>dj double act revamp chart show dj duo jk and ...</td>\n",
              "      <td>entertainment</td>\n",
              "      <td>dj double act revamp chart show dj duo jk and ...</td>\n",
              "      <td>1</td>\n",
              "    </tr>\n",
              "    <tr>\n",
              "      <th>1487</th>\n",
              "      <td>1590</td>\n",
              "      <td>weak dollar hits reuters revenues at media gro...</td>\n",
              "      <td>business</td>\n",
              "      <td>weak dollar hits reuters revenues at media gro...</td>\n",
              "      <td>0</td>\n",
              "    </tr>\n",
              "    <tr>\n",
              "      <th>1488</th>\n",
              "      <td>1587</td>\n",
              "      <td>apple ipod family expands market apple has exp...</td>\n",
              "      <td>tech</td>\n",
              "      <td>apple ipod family expands market apple has exp...</td>\n",
              "      <td>4</td>\n",
              "    </tr>\n",
              "    <tr>\n",
              "      <th>1489</th>\n",
              "      <td>538</td>\n",
              "      <td>santy worm makes unwelcome visit thousands of ...</td>\n",
              "      <td>tech</td>\n",
              "      <td>santy worm makes unwelcome visit thousands of ...</td>\n",
              "      <td>4</td>\n",
              "    </tr>\n",
              "  </tbody>\n",
              "</table>\n",
              "<p>1440 rows × 5 columns</p>\n",
              "</div>"
            ],
            "text/plain": [
              "      ArticleId                                               Text  \\\n",
              "0          1833  worldcom ex-boss launches defence lawyers defe...   \n",
              "1           154  german business confidence slides german busin...   \n",
              "2          1101  bbc poll indicates economic gloom citizens in ...   \n",
              "3          1976  lifestyle  governs mobile choice  faster  bett...   \n",
              "4           917  enron bosses in $168m payout eighteen former e...   \n",
              "...         ...                                                ...   \n",
              "1485        857  double eviction from big brother model caprice...   \n",
              "1486        325  dj double act revamp chart show dj duo jk and ...   \n",
              "1487       1590  weak dollar hits reuters revenues at media gro...   \n",
              "1488       1587  apple ipod family expands market apple has exp...   \n",
              "1489        538  santy worm makes unwelcome visit thousands of ...   \n",
              "\n",
              "           Category                                              CText  Label  \n",
              "0          business  worldcom ex-boss launches defence lawyers defe...      0  \n",
              "1          business  german business confidence slides german busin...      0  \n",
              "2          business  bbc poll indicates economic gloom citizens in ...      0  \n",
              "3              tech  lifestyle  governs mobile choice  faster  bett...      4  \n",
              "4          business  enron bosses in $168m payout eighteen former e...      0  \n",
              "...             ...                                                ...    ...  \n",
              "1485  entertainment  double eviction from big brother model caprice...      1  \n",
              "1486  entertainment  dj double act revamp chart show dj duo jk and ...      1  \n",
              "1487       business  weak dollar hits reuters revenues at media gro...      0  \n",
              "1488           tech  apple ipod family expands market apple has exp...      4  \n",
              "1489           tech  santy worm makes unwelcome visit thousands of ...      4  \n",
              "\n",
              "[1440 rows x 5 columns]"
            ]
          },
          "execution_count": 20,
          "metadata": {},
          "output_type": "execute_result"
        }
      ],
      "source": [
        "train_df"
      ]
    },
    {
      "cell_type": "code",
      "execution_count": 21,
      "metadata": {},
      "outputs": [],
      "source": [
        "# Normalize the text (convert to lowercase, remove punctuation and numbers)\n",
        "# remove punctuation and numbers\n",
        "\n",
        "def clean_for_punc_and_numbers(ip_text):\n",
        "    remove = set(string.punctuation)\n",
        "    return ''.join([c for c in ip_text if (not c.isdigit() and c not in remove)])\n",
        "\n",
        "train_df['CText'] = train_df['CText'].apply(clean_for_punc_and_numbers)\n",
        "test_df['CText'] = test_df['CText'].apply(clean_for_punc_and_numbers)"
      ]
    },
    {
      "cell_type": "code",
      "execution_count": 22,
      "metadata": {},
      "outputs": [
        {
          "data": {
            "text/html": [
              "<div>\n",
              "<style scoped>\n",
              "    .dataframe tbody tr th:only-of-type {\n",
              "        vertical-align: middle;\n",
              "    }\n",
              "\n",
              "    .dataframe tbody tr th {\n",
              "        vertical-align: top;\n",
              "    }\n",
              "\n",
              "    .dataframe thead th {\n",
              "        text-align: right;\n",
              "    }\n",
              "</style>\n",
              "<table border=\"1\" class=\"dataframe\">\n",
              "  <thead>\n",
              "    <tr style=\"text-align: right;\">\n",
              "      <th></th>\n",
              "      <th>ArticleId</th>\n",
              "      <th>Text</th>\n",
              "      <th>Category</th>\n",
              "      <th>CText</th>\n",
              "      <th>Label</th>\n",
              "    </tr>\n",
              "  </thead>\n",
              "  <tbody>\n",
              "    <tr>\n",
              "      <th>0</th>\n",
              "      <td>1833</td>\n",
              "      <td>worldcom ex-boss launches defence lawyers defe...</td>\n",
              "      <td>business</td>\n",
              "      <td>worldcom exboss launches defence lawyers defen...</td>\n",
              "      <td>0</td>\n",
              "    </tr>\n",
              "    <tr>\n",
              "      <th>1</th>\n",
              "      <td>154</td>\n",
              "      <td>german business confidence slides german busin...</td>\n",
              "      <td>business</td>\n",
              "      <td>german business confidence slides german busin...</td>\n",
              "      <td>0</td>\n",
              "    </tr>\n",
              "    <tr>\n",
              "      <th>2</th>\n",
              "      <td>1101</td>\n",
              "      <td>bbc poll indicates economic gloom citizens in ...</td>\n",
              "      <td>business</td>\n",
              "      <td>bbc poll indicates economic gloom citizens in ...</td>\n",
              "      <td>0</td>\n",
              "    </tr>\n",
              "    <tr>\n",
              "      <th>3</th>\n",
              "      <td>1976</td>\n",
              "      <td>lifestyle  governs mobile choice  faster  bett...</td>\n",
              "      <td>tech</td>\n",
              "      <td>lifestyle  governs mobile choice  faster  bett...</td>\n",
              "      <td>4</td>\n",
              "    </tr>\n",
              "    <tr>\n",
              "      <th>4</th>\n",
              "      <td>917</td>\n",
              "      <td>enron bosses in $168m payout eighteen former e...</td>\n",
              "      <td>business</td>\n",
              "      <td>enron bosses in m payout eighteen former enron...</td>\n",
              "      <td>0</td>\n",
              "    </tr>\n",
              "  </tbody>\n",
              "</table>\n",
              "</div>"
            ],
            "text/plain": [
              "   ArticleId                                               Text  Category  \\\n",
              "0       1833  worldcom ex-boss launches defence lawyers defe...  business   \n",
              "1        154  german business confidence slides german busin...  business   \n",
              "2       1101  bbc poll indicates economic gloom citizens in ...  business   \n",
              "3       1976  lifestyle  governs mobile choice  faster  bett...      tech   \n",
              "4        917  enron bosses in $168m payout eighteen former e...  business   \n",
              "\n",
              "                                               CText  Label  \n",
              "0  worldcom exboss launches defence lawyers defen...      0  \n",
              "1  german business confidence slides german busin...      0  \n",
              "2  bbc poll indicates economic gloom citizens in ...      0  \n",
              "3  lifestyle  governs mobile choice  faster  bett...      4  \n",
              "4  enron bosses in m payout eighteen former enron...      0  "
            ]
          },
          "execution_count": 22,
          "metadata": {},
          "output_type": "execute_result"
        }
      ],
      "source": [
        "train_df.head()"
      ]
    },
    {
      "cell_type": "code",
      "execution_count": 23,
      "metadata": {
        "id": "JynIpooDQknX"
      },
      "outputs": [
        {
          "data": {
            "text/plain": [
              "0       worldcom exboss launches defence lawyers defen...\n",
              "1       german business confidence slides german busin...\n",
              "2       bbc poll indicates economic gloom citizens in ...\n",
              "3       lifestyle  governs mobile choice  faster  bett...\n",
              "4       enron bosses in m payout eighteen former enron...\n",
              "                              ...                        \n",
              "1485    double eviction from big brother model caprice...\n",
              "1486    dj double act revamp chart show dj duo jk and ...\n",
              "1487    weak dollar hits reuters revenues at media gro...\n",
              "1488    apple ipod family expands market apple has exp...\n",
              "1489    santy worm makes unwelcome visit thousands of ...\n",
              "Name: CText, Length: 1440, dtype: object"
            ]
          },
          "execution_count": 23,
          "metadata": {},
          "output_type": "execute_result"
        }
      ],
      "source": [
        "# convert to the lowercase\n",
        "train_df['CText'].str.lower()"
      ]
    },
    {
      "cell_type": "code",
      "execution_count": 24,
      "metadata": {},
      "outputs": [
        {
          "name": "stderr",
          "output_type": "stream",
          "text": [
            "[nltk_data] Downloading package stopwords to\n",
            "[nltk_data]     C:\\Users\\kbaja\\AppData\\Roaming\\nltk_data...\n",
            "[nltk_data]   Package stopwords is already up-to-date!\n"
          ]
        },
        {
          "data": {
            "text/plain": [
              "True"
            ]
          },
          "execution_count": 24,
          "metadata": {},
          "output_type": "execute_result"
        }
      ],
      "source": [
        "# download stopwords\n",
        "nltk.download('stopwords')"
      ]
    },
    {
      "cell_type": "code",
      "execution_count": 25,
      "metadata": {
        "id": "X_2FaRTjQnxX"
      },
      "outputs": [],
      "source": [
        "# Tokenize and remove stopwords\n",
        "stopw = stopwords.words('english')"
      ]
    },
    {
      "cell_type": "code",
      "execution_count": 26,
      "metadata": {},
      "outputs": [],
      "source": [
        "# remove stop words\n",
        "\n",
        "def clean_for_stopwords(words):\n",
        "    return ' '.join(word.lower() for word in words.split() if word not in stopw)\n",
        "\n",
        "train_df['CText'] = train_df['CText'].apply(clean_for_stopwords)\n",
        "test_df['CText'] = test_df['CText'].apply(clean_for_stopwords)"
      ]
    },
    {
      "cell_type": "code",
      "execution_count": 27,
      "metadata": {},
      "outputs": [
        {
          "data": {
            "text/html": [
              "<div>\n",
              "<style scoped>\n",
              "    .dataframe tbody tr th:only-of-type {\n",
              "        vertical-align: middle;\n",
              "    }\n",
              "\n",
              "    .dataframe tbody tr th {\n",
              "        vertical-align: top;\n",
              "    }\n",
              "\n",
              "    .dataframe thead th {\n",
              "        text-align: right;\n",
              "    }\n",
              "</style>\n",
              "<table border=\"1\" class=\"dataframe\">\n",
              "  <thead>\n",
              "    <tr style=\"text-align: right;\">\n",
              "      <th></th>\n",
              "      <th>ArticleId</th>\n",
              "      <th>Text</th>\n",
              "      <th>Category</th>\n",
              "      <th>CText</th>\n",
              "      <th>Label</th>\n",
              "    </tr>\n",
              "  </thead>\n",
              "  <tbody>\n",
              "    <tr>\n",
              "      <th>0</th>\n",
              "      <td>1833</td>\n",
              "      <td>worldcom ex-boss launches defence lawyers defe...</td>\n",
              "      <td>business</td>\n",
              "      <td>worldcom exboss launches defence lawyers defen...</td>\n",
              "      <td>0</td>\n",
              "    </tr>\n",
              "    <tr>\n",
              "      <th>1</th>\n",
              "      <td>154</td>\n",
              "      <td>german business confidence slides german busin...</td>\n",
              "      <td>business</td>\n",
              "      <td>german business confidence slides german busin...</td>\n",
              "      <td>0</td>\n",
              "    </tr>\n",
              "    <tr>\n",
              "      <th>2</th>\n",
              "      <td>1101</td>\n",
              "      <td>bbc poll indicates economic gloom citizens in ...</td>\n",
              "      <td>business</td>\n",
              "      <td>bbc poll indicates economic gloom citizens maj...</td>\n",
              "      <td>0</td>\n",
              "    </tr>\n",
              "    <tr>\n",
              "      <th>3</th>\n",
              "      <td>1976</td>\n",
              "      <td>lifestyle  governs mobile choice  faster  bett...</td>\n",
              "      <td>tech</td>\n",
              "      <td>lifestyle governs mobile choice faster better ...</td>\n",
              "      <td>4</td>\n",
              "    </tr>\n",
              "    <tr>\n",
              "      <th>4</th>\n",
              "      <td>917</td>\n",
              "      <td>enron bosses in $168m payout eighteen former e...</td>\n",
              "      <td>business</td>\n",
              "      <td>enron bosses payout eighteen former enron dire...</td>\n",
              "      <td>0</td>\n",
              "    </tr>\n",
              "    <tr>\n",
              "      <th>...</th>\n",
              "      <td>...</td>\n",
              "      <td>...</td>\n",
              "      <td>...</td>\n",
              "      <td>...</td>\n",
              "      <td>...</td>\n",
              "    </tr>\n",
              "    <tr>\n",
              "      <th>1485</th>\n",
              "      <td>857</td>\n",
              "      <td>double eviction from big brother model caprice...</td>\n",
              "      <td>entertainment</td>\n",
              "      <td>double eviction big brother model caprice holb...</td>\n",
              "      <td>1</td>\n",
              "    </tr>\n",
              "    <tr>\n",
              "      <th>1486</th>\n",
              "      <td>325</td>\n",
              "      <td>dj double act revamp chart show dj duo jk and ...</td>\n",
              "      <td>entertainment</td>\n",
              "      <td>dj double act revamp chart show dj duo jk joel...</td>\n",
              "      <td>1</td>\n",
              "    </tr>\n",
              "    <tr>\n",
              "      <th>1487</th>\n",
              "      <td>1590</td>\n",
              "      <td>weak dollar hits reuters revenues at media gro...</td>\n",
              "      <td>business</td>\n",
              "      <td>weak dollar hits reuters revenues media group ...</td>\n",
              "      <td>0</td>\n",
              "    </tr>\n",
              "    <tr>\n",
              "      <th>1488</th>\n",
              "      <td>1587</td>\n",
              "      <td>apple ipod family expands market apple has exp...</td>\n",
              "      <td>tech</td>\n",
              "      <td>apple ipod family expands market apple expande...</td>\n",
              "      <td>4</td>\n",
              "    </tr>\n",
              "    <tr>\n",
              "      <th>1489</th>\n",
              "      <td>538</td>\n",
              "      <td>santy worm makes unwelcome visit thousands of ...</td>\n",
              "      <td>tech</td>\n",
              "      <td>santy worm makes unwelcome visit thousands web...</td>\n",
              "      <td>4</td>\n",
              "    </tr>\n",
              "  </tbody>\n",
              "</table>\n",
              "<p>1440 rows × 5 columns</p>\n",
              "</div>"
            ],
            "text/plain": [
              "      ArticleId                                               Text  \\\n",
              "0          1833  worldcom ex-boss launches defence lawyers defe...   \n",
              "1           154  german business confidence slides german busin...   \n",
              "2          1101  bbc poll indicates economic gloom citizens in ...   \n",
              "3          1976  lifestyle  governs mobile choice  faster  bett...   \n",
              "4           917  enron bosses in $168m payout eighteen former e...   \n",
              "...         ...                                                ...   \n",
              "1485        857  double eviction from big brother model caprice...   \n",
              "1486        325  dj double act revamp chart show dj duo jk and ...   \n",
              "1487       1590  weak dollar hits reuters revenues at media gro...   \n",
              "1488       1587  apple ipod family expands market apple has exp...   \n",
              "1489        538  santy worm makes unwelcome visit thousands of ...   \n",
              "\n",
              "           Category                                              CText  Label  \n",
              "0          business  worldcom exboss launches defence lawyers defen...      0  \n",
              "1          business  german business confidence slides german busin...      0  \n",
              "2          business  bbc poll indicates economic gloom citizens maj...      0  \n",
              "3              tech  lifestyle governs mobile choice faster better ...      4  \n",
              "4          business  enron bosses payout eighteen former enron dire...      0  \n",
              "...             ...                                                ...    ...  \n",
              "1485  entertainment  double eviction big brother model caprice holb...      1  \n",
              "1486  entertainment  dj double act revamp chart show dj duo jk joel...      1  \n",
              "1487       business  weak dollar hits reuters revenues media group ...      0  \n",
              "1488           tech  apple ipod family expands market apple expande...      4  \n",
              "1489           tech  santy worm makes unwelcome visit thousands web...      4  \n",
              "\n",
              "[1440 rows x 5 columns]"
            ]
          },
          "execution_count": 27,
          "metadata": {},
          "output_type": "execute_result"
        }
      ],
      "source": [
        "train_df"
      ]
    },
    {
      "cell_type": "code",
      "execution_count": 28,
      "metadata": {},
      "outputs": [
        {
          "data": {
            "text/html": [
              "<div>\n",
              "<style scoped>\n",
              "    .dataframe tbody tr th:only-of-type {\n",
              "        vertical-align: middle;\n",
              "    }\n",
              "\n",
              "    .dataframe tbody tr th {\n",
              "        vertical-align: top;\n",
              "    }\n",
              "\n",
              "    .dataframe thead th {\n",
              "        text-align: right;\n",
              "    }\n",
              "</style>\n",
              "<table border=\"1\" class=\"dataframe\">\n",
              "  <thead>\n",
              "    <tr style=\"text-align: right;\">\n",
              "      <th></th>\n",
              "      <th>ArticleId</th>\n",
              "      <th>Text</th>\n",
              "      <th>CText</th>\n",
              "    </tr>\n",
              "  </thead>\n",
              "  <tbody>\n",
              "    <tr>\n",
              "      <th>0</th>\n",
              "      <td>1018</td>\n",
              "      <td>qpr keeper day heads for preston queens park r...</td>\n",
              "      <td>qpr keeper day heads preston queens park range...</td>\n",
              "    </tr>\n",
              "    <tr>\n",
              "      <th>1</th>\n",
              "      <td>1319</td>\n",
              "      <td>software watching while you work software that...</td>\n",
              "      <td>software watching work software monitor every ...</td>\n",
              "    </tr>\n",
              "    <tr>\n",
              "      <th>2</th>\n",
              "      <td>1138</td>\n",
              "      <td>d arcy injury adds to ireland woe gordon d arc...</td>\n",
              "      <td>arcy injury adds ireland woe gordon arcy ruled...</td>\n",
              "    </tr>\n",
              "    <tr>\n",
              "      <th>3</th>\n",
              "      <td>459</td>\n",
              "      <td>india s reliance family feud heats up the ongo...</td>\n",
              "      <td>india reliance family feud heats ongoing publi...</td>\n",
              "    </tr>\n",
              "    <tr>\n",
              "      <th>4</th>\n",
              "      <td>1020</td>\n",
              "      <td>boro suffer morrison injury blow middlesbrough...</td>\n",
              "      <td>boro suffer morrison injury blow middlesbrough...</td>\n",
              "    </tr>\n",
              "    <tr>\n",
              "      <th>...</th>\n",
              "      <td>...</td>\n",
              "      <td>...</td>\n",
              "      <td>...</td>\n",
              "    </tr>\n",
              "    <tr>\n",
              "      <th>730</th>\n",
              "      <td>1923</td>\n",
              "      <td>eu to probe alitalia  state aid  the european ...</td>\n",
              "      <td>eu probe alitalia state aid european commissio...</td>\n",
              "    </tr>\n",
              "    <tr>\n",
              "      <th>731</th>\n",
              "      <td>373</td>\n",
              "      <td>u2 to play at grammy awards show irish rock ba...</td>\n",
              "      <td>u play grammy awards show irish rock band u pl...</td>\n",
              "    </tr>\n",
              "    <tr>\n",
              "      <th>732</th>\n",
              "      <td>1704</td>\n",
              "      <td>sport betting rules in spotlight a group of mp...</td>\n",
              "      <td>sport betting rules spotlight group mps peers ...</td>\n",
              "    </tr>\n",
              "    <tr>\n",
              "      <th>733</th>\n",
              "      <td>206</td>\n",
              "      <td>alfa romeos  to get gm engines  fiat is to sto...</td>\n",
              "      <td>alfa romeos get gm engines fiat stop making si...</td>\n",
              "    </tr>\n",
              "    <tr>\n",
              "      <th>734</th>\n",
              "      <td>471</td>\n",
              "      <td>citizenship event for 18s touted citizenship c...</td>\n",
              "      <td>citizenship event touted citizenship ceremonie...</td>\n",
              "    </tr>\n",
              "  </tbody>\n",
              "</table>\n",
              "<p>735 rows × 3 columns</p>\n",
              "</div>"
            ],
            "text/plain": [
              "     ArticleId                                               Text  \\\n",
              "0         1018  qpr keeper day heads for preston queens park r...   \n",
              "1         1319  software watching while you work software that...   \n",
              "2         1138  d arcy injury adds to ireland woe gordon d arc...   \n",
              "3          459  india s reliance family feud heats up the ongo...   \n",
              "4         1020  boro suffer morrison injury blow middlesbrough...   \n",
              "..         ...                                                ...   \n",
              "730       1923  eu to probe alitalia  state aid  the european ...   \n",
              "731        373  u2 to play at grammy awards show irish rock ba...   \n",
              "732       1704  sport betting rules in spotlight a group of mp...   \n",
              "733        206  alfa romeos  to get gm engines  fiat is to sto...   \n",
              "734        471  citizenship event for 18s touted citizenship c...   \n",
              "\n",
              "                                                 CText  \n",
              "0    qpr keeper day heads preston queens park range...  \n",
              "1    software watching work software monitor every ...  \n",
              "2    arcy injury adds ireland woe gordon arcy ruled...  \n",
              "3    india reliance family feud heats ongoing publi...  \n",
              "4    boro suffer morrison injury blow middlesbrough...  \n",
              "..                                                 ...  \n",
              "730  eu probe alitalia state aid european commissio...  \n",
              "731  u play grammy awards show irish rock band u pl...  \n",
              "732  sport betting rules spotlight group mps peers ...  \n",
              "733  alfa romeos get gm engines fiat stop making si...  \n",
              "734  citizenship event touted citizenship ceremonie...  \n",
              "\n",
              "[735 rows x 3 columns]"
            ]
          },
          "execution_count": 28,
          "metadata": {},
          "output_type": "execute_result"
        }
      ],
      "source": [
        "test_df"
      ]
    },
    {
      "cell_type": "code",
      "execution_count": null,
      "metadata": {},
      "outputs": [],
      "source": []
    },
    {
      "cell_type": "markdown",
      "metadata": {},
      "source": [
        "# Classical machine learning: SVM"
      ]
    },
    {
      "cell_type": "code",
      "execution_count": 29,
      "metadata": {},
      "outputs": [],
      "source": [
        "# Using TF-IDF for the vectorizer\n",
        "tfidf_vectorizer = TfidfVectorizer(stop_words='english') \n",
        "X_train = tfidf_vectorizer.fit_transform(train_df['CText'])\n",
        "y_train = train_df['Category']"
      ]
    },
    {
      "cell_type": "code",
      "execution_count": 30,
      "metadata": {},
      "outputs": [],
      "source": [
        "# Initialize the SVM classifier and use linear kernel\n",
        "svm_classifier = svm.SVC(kernel='linear') "
      ]
    },
    {
      "cell_type": "code",
      "execution_count": 31,
      "metadata": {},
      "outputs": [
        {
          "data": {
            "text/html": [
              "<style>#sk-container-id-1 {color: black;}#sk-container-id-1 pre{padding: 0;}#sk-container-id-1 div.sk-toggleable {background-color: white;}#sk-container-id-1 label.sk-toggleable__label {cursor: pointer;display: block;width: 100%;margin-bottom: 0;padding: 0.3em;box-sizing: border-box;text-align: center;}#sk-container-id-1 label.sk-toggleable__label-arrow:before {content: \"▸\";float: left;margin-right: 0.25em;color: #696969;}#sk-container-id-1 label.sk-toggleable__label-arrow:hover:before {color: black;}#sk-container-id-1 div.sk-estimator:hover label.sk-toggleable__label-arrow:before {color: black;}#sk-container-id-1 div.sk-toggleable__content {max-height: 0;max-width: 0;overflow: hidden;text-align: left;background-color: #f0f8ff;}#sk-container-id-1 div.sk-toggleable__content pre {margin: 0.2em;color: black;border-radius: 0.25em;background-color: #f0f8ff;}#sk-container-id-1 input.sk-toggleable__control:checked~div.sk-toggleable__content {max-height: 200px;max-width: 100%;overflow: auto;}#sk-container-id-1 input.sk-toggleable__control:checked~label.sk-toggleable__label-arrow:before {content: \"▾\";}#sk-container-id-1 div.sk-estimator input.sk-toggleable__control:checked~label.sk-toggleable__label {background-color: #d4ebff;}#sk-container-id-1 div.sk-label input.sk-toggleable__control:checked~label.sk-toggleable__label {background-color: #d4ebff;}#sk-container-id-1 input.sk-hidden--visually {border: 0;clip: rect(1px 1px 1px 1px);clip: rect(1px, 1px, 1px, 1px);height: 1px;margin: -1px;overflow: hidden;padding: 0;position: absolute;width: 1px;}#sk-container-id-1 div.sk-estimator {font-family: monospace;background-color: #f0f8ff;border: 1px dotted black;border-radius: 0.25em;box-sizing: border-box;margin-bottom: 0.5em;}#sk-container-id-1 div.sk-estimator:hover {background-color: #d4ebff;}#sk-container-id-1 div.sk-parallel-item::after {content: \"\";width: 100%;border-bottom: 1px solid gray;flex-grow: 1;}#sk-container-id-1 div.sk-label:hover label.sk-toggleable__label {background-color: #d4ebff;}#sk-container-id-1 div.sk-serial::before {content: \"\";position: absolute;border-left: 1px solid gray;box-sizing: border-box;top: 0;bottom: 0;left: 50%;z-index: 0;}#sk-container-id-1 div.sk-serial {display: flex;flex-direction: column;align-items: center;background-color: white;padding-right: 0.2em;padding-left: 0.2em;position: relative;}#sk-container-id-1 div.sk-item {position: relative;z-index: 1;}#sk-container-id-1 div.sk-parallel {display: flex;align-items: stretch;justify-content: center;background-color: white;position: relative;}#sk-container-id-1 div.sk-item::before, #sk-container-id-1 div.sk-parallel-item::before {content: \"\";position: absolute;border-left: 1px solid gray;box-sizing: border-box;top: 0;bottom: 0;left: 50%;z-index: -1;}#sk-container-id-1 div.sk-parallel-item {display: flex;flex-direction: column;z-index: 1;position: relative;background-color: white;}#sk-container-id-1 div.sk-parallel-item:first-child::after {align-self: flex-end;width: 50%;}#sk-container-id-1 div.sk-parallel-item:last-child::after {align-self: flex-start;width: 50%;}#sk-container-id-1 div.sk-parallel-item:only-child::after {width: 0;}#sk-container-id-1 div.sk-dashed-wrapped {border: 1px dashed gray;margin: 0 0.4em 0.5em 0.4em;box-sizing: border-box;padding-bottom: 0.4em;background-color: white;}#sk-container-id-1 div.sk-label label {font-family: monospace;font-weight: bold;display: inline-block;line-height: 1.2em;}#sk-container-id-1 div.sk-label-container {text-align: center;}#sk-container-id-1 div.sk-container {/* jupyter's `normalize.less` sets `[hidden] { display: none; }` but bootstrap.min.css set `[hidden] { display: none !important; }` so we also need the `!important` here to be able to override the default hidden behavior on the sphinx rendered scikit-learn.org. See: https://github.com/scikit-learn/scikit-learn/issues/21755 */display: inline-block !important;position: relative;}#sk-container-id-1 div.sk-text-repr-fallback {display: none;}</style><div id=\"sk-container-id-1\" class=\"sk-top-container\"><div class=\"sk-text-repr-fallback\"><pre>SVC(kernel=&#x27;linear&#x27;)</pre><b>In a Jupyter environment, please rerun this cell to show the HTML representation or trust the notebook. <br />On GitHub, the HTML representation is unable to render, please try loading this page with nbviewer.org.</b></div><div class=\"sk-container\" hidden><div class=\"sk-item\"><div class=\"sk-estimator sk-toggleable\"><input class=\"sk-toggleable__control sk-hidden--visually\" id=\"sk-estimator-id-1\" type=\"checkbox\" checked><label for=\"sk-estimator-id-1\" class=\"sk-toggleable__label sk-toggleable__label-arrow\">SVC</label><div class=\"sk-toggleable__content\"><pre>SVC(kernel=&#x27;linear&#x27;)</pre></div></div></div></div></div>"
            ],
            "text/plain": [
              "SVC(kernel='linear')"
            ]
          },
          "execution_count": 31,
          "metadata": {},
          "output_type": "execute_result"
        }
      ],
      "source": [
        "# Train the SVM model\n",
        "svm_classifier.fit(X_train, y_train)"
      ]
    },
    {
      "cell_type": "code",
      "execution_count": 32,
      "metadata": {},
      "outputs": [
        {
          "name": "stdout",
          "output_type": "stream",
          "text": [
            "Results on Training dataset ---\n",
            "Classification results:\n",
            "               precision    recall  f1-score   support\n",
            "\n",
            "     business       1.00      1.00      1.00       335\n",
            "entertainment       1.00      1.00      1.00       263\n",
            "     politics       1.00      1.00      1.00       266\n",
            "        sport       1.00      1.00      1.00       342\n",
            "         tech       1.00      1.00      1.00       234\n",
            "\n",
            "     accuracy                           1.00      1440\n",
            "    macro avg       1.00      1.00      1.00      1440\n",
            " weighted avg       1.00      1.00      1.00      1440\n",
            "\n",
            "\n",
            "Confusion Matrix:\n",
            "[[335   0   0   0   0]\n",
            " [  0 263   0   0   0]\n",
            " [  0   0 266   0   0]\n",
            " [  1   0   0 341   0]\n",
            " [  0   1   0   0 233]]\n",
            "\n",
            "Accuracy Score:\n",
            "0.9986111111111111\n"
          ]
        }
      ],
      "source": [
        "y_pred_train = svm_classifier.predict(X_train)\n",
        "print(\"Results on Training dataset ---\")\n",
        "print(\"Classification results:\")\n",
        "print(classification_report(y_train, y_pred_train))\n",
        "\n",
        "print(\"\\nConfusion Matrix:\")\n",
        "print(confusion_matrix(y_train, y_pred_train))\n",
        "\n",
        "print(\"\\nAccuracy Score:\")\n",
        "print(accuracy_score(y_train, y_pred_train))"
      ]
    },
    {
      "cell_type": "markdown",
      "metadata": {},
      "source": [
        "# Neural network based "
      ]
    },
    {
      "cell_type": "markdown",
      "metadata": {
        "id": "wcihFA8qP8hQ"
      },
      "source": [
        "# Feature Engineering / Data Pipeline"
      ]
    },
    {
      "cell_type": "code",
      "execution_count": 33,
      "metadata": {
        "id": "oLpATVA1QuPO"
      },
      "outputs": [],
      "source": [
        "# Convert data into numerical features\n",
        "# Convert the cleaned text data into numerical features using one of the following techniques:\n",
        "#  ○ TF-IDF Vectorization.\n",
        "#  ○ Countvectorizer\n",
        "#  ○ Consider experimenting with word embeddings for advanced feature extraction"
      ]
    },
    {
      "cell_type": "code",
      "execution_count": 34,
      "metadata": {},
      "outputs": [],
      "source": [
        "# I am using word embedding from Tensorflow"
      ]
    },
    {
      "cell_type": "code",
      "execution_count": 35,
      "metadata": {},
      "outputs": [],
      "source": [
        "# split the train data to training, valuation, and test\n",
        "all_train_ds = tf.data.Dataset.from_tensor_slices((train_df['CText'], train_df['Label']))\n",
        "all_train_ds = all_train_ds.shuffle(buffer_size=1000)\n",
        "# Total train dataset is 1440\n",
        "data_size = 1440\n",
        "train_size = int(data_size * 0.7)\n",
        "val_size = int(data_size * 0.15)\n",
        "train_ds = all_train_ds.take(train_size)\n",
        "remaining = all_train_ds.skip(train_size)\n",
        "val_ds = remaining.take(val_size)\n",
        "test_ds = remaining.skip(val_size)"
      ]
    },
    {
      "cell_type": "code",
      "execution_count": 36,
      "metadata": {},
      "outputs": [
        {
          "data": {
            "text/plain": [
              "<_TakeDataset element_spec=(TensorSpec(shape=(), dtype=tf.string, name=None), TensorSpec(shape=(), dtype=tf.int32, name=None))>"
            ]
          },
          "execution_count": 36,
          "metadata": {},
          "output_type": "execute_result"
        }
      ],
      "source": [
        "# print train_ds\n",
        "train_ds.take(1)"
      ]
    },
    {
      "cell_type": "code",
      "execution_count": 37,
      "metadata": {},
      "outputs": [
        {
          "name": "stdout",
          "output_type": "stream",
          "text": [
            "Text tf.Tensor(b'labour four little words labour unveiled four little words form heart general election campaign returned planet galifray looming slogan britain forward back instruction one interplanetary time lords become much part daily lives sky always mostly stop noticing word britain cast red background nod old labour forward italics cunningly slopes forward along back set mushy pea green background one journalists assembled unveiling declared post modern something great use colour ad men really earn money coincidentally ad men came abandoned flying pigs socalled fagin posters caused tory protests sacked election supremo alan milburn declared good job mr milburn latest series preelectioncampaign campaigning explained slogan reaction polling suggests public believe labour tony blair future michael howard tories would take country backwards many people talk years good old days declared would aggressive campaign things would inevitably boil choice labour tories nobody claimed could picture liberal democrat leader charles kennedy walking downing street day polling could however picture michael howard course tony blair right campaign concentrated rigorously examining opposition policies past record tony blair would front line campaign said election prime minister spending time london britain overseas promised leading domestic debate front listening taking flak let get', shape=(), dtype=string)\n",
            "label tf.Tensor(2, shape=(), dtype=int32)\n",
            "Text tf.Tensor(b'uk tv channel rapped csi ad tv channel five criticised sending offensive threatening advertising material viewers new show murder scene scientists five mailed thousands fake dossiers including photos murder victims email suggesting recipient stalked serial killer following complaints advertising standards authority contacted five cease promotion crime show csiny five admitted sent promotion packs stopped promotion material sent brown envelope type used investigators series spinoff highly successful csi crime scene investigation series also runs five pack also features pictures forensic evidence crime scene wanted poster csiny logo printed large bottom five said received complaints surprised reaction obvious material promoting drama five spokesman said light efforts made make nature contents transparent surprised small minority recipients mistaken anything else everyone sent promotion expressed interest receiving details particular genre programming various websites also received emails calls recipients praising originality imagination campaign', shape=(), dtype=string)\n",
            "label tf.Tensor(1, shape=(), dtype=int32)\n"
          ]
        }
      ],
      "source": [
        "# print the first two train_ds\n",
        "for text_bt, label_bt in train_ds.take(2):\n",
        "    print(\"Text\", text_bt)\n",
        "    print(\"label\", label_bt)"
      ]
    },
    {
      "cell_type": "code",
      "execution_count": 38,
      "metadata": {},
      "outputs": [],
      "source": [
        "# function to standardise\n",
        "# Note, there is a repeat ops for lowering and removing the punctuation; \n",
        "# It was also done with the panda above; Only one is needed, though \n",
        "def custom_standardization(input_data):\n",
        "  lowercase = tf.strings.lower(input_data)\n",
        "  return tf.strings.regex_replace(lowercase, '[%s]' % re.escape(string.punctuation), '')"
      ]
    },
    {
      "cell_type": "code",
      "execution_count": 39,
      "metadata": {},
      "outputs": [],
      "source": [
        "# Use TextVectorization layer to convert sentences to vectors\n",
        "#max vocab size\n",
        "vocab_size = 10000\n",
        "#max size of words/tokens in a sentenct\n",
        "sentence_length = 120\n",
        "\n",
        "vectorize_layer = layers.TextVectorization(\n",
        "    standardize=custom_standardization,\n",
        "    max_tokens=vocab_size,\n",
        "    output_mode='int',\n",
        "    output_sequence_length=sentence_length)"
      ]
    },
    {
      "cell_type": "code",
      "execution_count": 40,
      "metadata": {},
      "outputs": [],
      "source": [
        "# Make a text-only dataset (without labels), then call adapt\n",
        "# adapt gets the vocabulary from the tokens in the dataset\n",
        "train_text = all_train_ds.map(lambda x, y: x)\n",
        "vectorize_layer.adapt(train_text)"
      ]
    },
    {
      "cell_type": "code",
      "execution_count": 41,
      "metadata": {},
      "outputs": [],
      "source": [
        "# function to vectorize the string text and create one-hot for the labels. \n",
        "# One hot is needed to for the softmax output layer of the network\n",
        "def vectorize_text(text, label):\n",
        "  return vectorize_layer(text), tf.one_hot(label, 5)"
      ]
    },
    {
      "cell_type": "code",
      "execution_count": 42,
      "metadata": {},
      "outputs": [
        {
          "name": "stdout",
          "output_type": "stream",
          "text": [
            "Text tf.Tensor(b'asian banks halt dollar slide dollar regained lost ground major currencies wednesday south korea japan denied planning selloff dollar suffered biggest oneday fall four months tuesday fears asian central banks lower reserves dollars japan biggest holder dollar reserves world south korea fourth largest dollar buying yen gmt stronger day also edged higher euro pound one euro worth one pound buying concerns rising oil prices outlook dollar pushed us stock markets tuesday dow jones industrial average closed nasdaq lost dollar latest slide began south korean parliamentary report suggested country bn foreign reserves plans boost holdings currencies australian canadian dollar wednesday however south korea moved steady financial markets issued statement bank korea change portfolio currencies reserves due short term market factors japan steadied nerves senior japanese finance ministry official told reuters plans change composition currency holdings foreign reserves thinking expanding euro holdings japan bn foreign exchange reserves start year us currency lost euro final three months fallen record lows staged something recovery analysts however pointed dollar inability recently extend rally despite positive economic corporate data highlighted fact many us economic problems disappeared focus country massive trade budget deficits analysts predicted dollar weakness come', shape=(), dtype=string)\n",
            "label tf.Tensor(0, shape=(), dtype=int32)\n",
            "Text tf.Tensor(b'big war games battle arrival new titles popular medal honor call duty franchises leaves fans wartime battle titles spoilt choice acclaimed pc title call duty updated console formats building many original elements part longrunning medal honor series added pacific assault pc catalogue adapting console game rising sun call duty finest hour casts succession allied soldiers fighting world war battlefronts including russia north africa traditional firstpersonviewed game lets control one character midst unit cohorts constantly bark orders nearidentical note medal honor pacific assault make feel part tightknit team plum middle allout action arenas war pacific battles including guadalcanal pearl harbour play one character throughout raw rather talkative us soldier games rely carefully stagemanaged structure keeps things ticking along works brilliant device make feel part story tedious winning moment early scene pacific assault come attack famous us base hawaii first ushered gunboat attacking incoming waves japanese planes made descend sinking battleship rescue crewman seizing antiaircraft guns one finest setpieces ever seen video game notion shuffling player along studiously predetermined path forcibly witnessing series preset moments action perilous business make whole affair feel stilted rather organic genius something like half life skilfully disguises linear plotting various means misdirection pair games really accomplish concerned imparting fullon atmospheric experience call duty comes suitably bombastic score overblown presentation finest hour similar determination framing everything moody wartime music archive footage lots reflective voiceovers letting play number different roles interesting ploy adds new dimensions call duty endeavour even sacrifices narrative flow somewhat game drawback could said format tastes differ wartime shooters often seem work better pc mouse control big reason along sharper graphics topend computer muster apparent notion pc games allowed get away bit subtlety call duty pc detailed plotwise graphically new adaptation feels little rough ready targeting ps controller proved tricky helped unconvincing collisiondetection shoot enemy repeatedly zero question aim yet bullets refuse hit checkpoints far get shot happens regularly set harshly far back find covering vast tracts scorched earth game wants challenge many players like dynamic battlefield simulator experience even refined pc parent sense part action thoroughly impressive games feature military colleagues disturbingly bad shots prone odd behaviour pacific assault particular commands comments irritatingly meaningless teamwork element titles like superficial designed add atmosphere camaraderie rather affect gameplay mechanics two games pacific assault gets things right including little points like autosaving intelligently tidier presentation engages well also looks wonderful making lush tropical settings reminiscent glorious far cry although ramp settings highspec machine get finest hour means bad pc original dazzling version sometimes feels underwhelming looking wartime game plenty atmosphere hearty abundance enemies shoot contented also niggling puzzlement break little ground rather competent', shape=(), dtype=string)\n",
            "label tf.Tensor(4, shape=(), dtype=int32)\n",
            "Text tf.Tensor(b'takeover offer sunderland fc bob murray chairman sunderland fc launched \\xc2\\xa3m bid club buying broadcaster bskyb stake business mr murray already sunderland leading shareholder holding stake hopes take full control championship side mr murray said club would find easier attract investment single majority owner sunderland delisted shares stock market august lifetime sunderland supporter board director since mr murray agreed buy bskyb holding wearside club tuesday taking stake stock market rules mr murray required make offer remaining shares already price paid bskyb holding p share offer fully accepted mr murray said expected pay maximum \\xc2\\xa3m remaining shares also stressed fans wanted keep touch club financial affairs could retain small number shares enabling attend annual meetings football sector experiencing significant changes uncertainty mr murray said statement recent speculation surrounding malcolm glazer manchester united shown unsettling effect possible number disparate interests added believe offer strengthen company remove potential type uncertainty sunderland relegated premiership currently pushing promotion club managed reduce losses last year \\xc2\\xa3m \\xc2\\xa3m selling host leading players however club turnover dropped sharply \\xc2\\xa3m \\xc2\\xa3m period fall broadcast revenues bskyb bought stake sunderland part five year media partnership deal deal expired last month', shape=(), dtype=string)\n",
            "label tf.Tensor(0, shape=(), dtype=int32)\n",
            "Text tf.Tensor(b'cairn shares slump oil setback shares cairn energy uk oil firm closed disappointing drilling update warning possible tax demands company said tests shown significant finds one indian oil fields upbeat potential areas also said indian government told pay production tax cairn argues liable cairn shares jumped almost year investors piled cairn company announced significant oil finds india year chief executive bill gammell said friday disappointed exploration socalled nc extension area rajasthan investors held high hopes major oil finds area cairn said estimates revised significant downgrade initial expectation cairn also said government believed company liable pay taxes productionsharing contract company said rate would rupees \\xc2\\xa3 per tonne seven barrels oil spokesman firm said tax would wipe field current value cairn refutes government position mr gammell said insisted contract made clear tax shouldered licensee india staterun oil natural gas corp ongc contractor pretty strong legal case added saying would become issue firm started production investors took dim view statements though shares closed p pence think people slightly overambitious quickly cairn would able develop potentially offload reserves said analyst jason kenney ing disappointments overshadowed increased production targets cairn existing oilfields company raised targets mangala aishwariya fields india barrels day barrels day mangala field thought contain billion barrels biggest find date two fields provide core future developments rajasthan mr gammell said cairn added would appraising another field early next year mr gammell set company successfully switched focus south asia interests us europe cairn also operates nepal bangladesh catapulted ftse index leading uk shares earlier year sharp rise share price', shape=(), dtype=string)\n",
            "label tf.Tensor(0, shape=(), dtype=int32)\n"
          ]
        }
      ],
      "source": [
        "# check the data\n",
        "for text_bt, label_bt in train_ds.take(4):\n",
        "    print(\"Text\", text_bt)\n",
        "    print(\"label\", label_bt)"
      ]
    },
    {
      "cell_type": "code",
      "execution_count": 43,
      "metadata": {},
      "outputs": [
        {
          "name": "stdout",
          "output_type": "stream",
          "text": [
            "Review tf.Tensor(b'indecency fine viacom media giant viacom paid \\xc2\\xa3m end investigations indecency us radio tv shows settlement federal communications commission fcc ends longrunning saga dating back fcc looking shows including shock jock howard stern two new york djs stern recently announced leaving viacom two djs sacked show featured couple purporting sex church church incident two years ago viacom agreed install audio delay equipment radio stations broadcast live programming also agreed train broadcasters employees indecency laws agreement cancels investigations radio television shows said richard diamond fcc deputy secretary communications shows broadcast viacomowned stations across united states viacom five days pay fine according agreement payment related fcc \\xc2\\xa3 fine levied viacom exposure singer janet jackson breast cbs super bowl halftime show january viacom contesting fine first time viacom paid indecency charges infinity broadcasting owned viacom paid cumulative fines totalling \\xc2\\xa3 settle fcc violations stern', shape=(), dtype=string)\n",
            "Label tf.Tensor(1, shape=(), dtype=int32)\n",
            "Vectorized review (<tf.Tensor: shape=(120,), dtype=int64, numpy=\n",
            "array([6863, 1512, 4622,  188,  566, 4622,  617,   69,   83, 3946, 6863,\n",
            "          8,  203,   97,  585, 1778, 1053, 1761,  443, 4839, 3584, 4451,\n",
            "       7435, 7994,   33, 4839,  257,  585,  121, 2457,    1,  158, 6561,\n",
            "         14,    6,  479, 4520, 6561,  475,  344, 1825, 4622,   14, 4520,\n",
            "       3320,   58, 3084,  920,    1, 2025, 2960, 2960, 2175,   14,   19,\n",
            "        293, 4622,  490, 4189, 2013, 5264, 2602,  203, 2211, 1308,  476,\n",
            "       3909,    5,  490, 3126, 2626, 1755, 6863,  853,  715,    1, 3946,\n",
            "        203,  480,  585,    2, 1019, 5259, 4839, 1325,  213, 1761,  585,\n",
            "       1308,    1, 2211,  356,  141,  912, 4622,   98,  207,  217, 1512,\n",
            "        117,  715, 3711, 4109, 4839,   84, 1512,    1, 4622, 5716,  612,\n",
            "       4466, 2172, 8116, 4912, 1731, 3260, 1676,   58,  194, 4622],\n",
            "      dtype=int64)>, <tf.Tensor: shape=(5,), dtype=float32, numpy=array([0., 1., 0., 0., 0.], dtype=float32)>)\n"
          ]
        }
      ],
      "source": [
        "# check the data from the dataset\n",
        "first_text, first_label = next(iter(train_ds))\n",
        "print(\"Review\", first_text)\n",
        "print(\"Label\", first_label)\n",
        "print(\"Vectorized review\", vectorize_text(first_text, first_label))"
      ]
    },
    {
      "cell_type": "code",
      "execution_count": 44,
      "metadata": {},
      "outputs": [
        {
          "data": {
            "text/plain": [
              "'driscoll'"
            ]
          },
          "execution_count": 44,
          "metadata": {},
          "output_type": "execute_result"
        }
      ],
      "source": [
        "# let's look at the vocab mapping\n",
        "vectorize_layer.get_vocabulary()[2123]"
      ]
    },
    {
      "cell_type": "code",
      "execution_count": 45,
      "metadata": {},
      "outputs": [
        {
          "data": {
            "text/plain": [
              "10000"
            ]
          },
          "execution_count": 45,
          "metadata": {},
          "output_type": "execute_result"
        }
      ],
      "source": [
        "# total len of the vocab\n",
        "len(vectorize_layer.get_vocabulary())"
      ]
    },
    {
      "cell_type": "code",
      "execution_count": 46,
      "metadata": {},
      "outputs": [],
      "source": [
        "# Apply vectorization on the train, val, and test datasets\n",
        "train_ds = train_ds.map(vectorize_text)\n",
        "val_ds = val_ds.map(vectorize_text)\n",
        "test_ds = test_ds.map(vectorize_text)"
      ]
    },
    {
      "cell_type": "code",
      "execution_count": 47,
      "metadata": {},
      "outputs": [],
      "source": [
        "# Create batches of train, val, and test\n",
        "# The datapipeline which goes to the network\n",
        "AUTOTUNE = tf.data.AUTOTUNE\n",
        "\n",
        "batch_size = 4\n",
        "buffer_size = 124\n",
        "\n",
        "#shuffle the training data only for a faster convergence\n",
        "# no need to shuffle the val and test data\n",
        "train_ds = train_ds.shuffle(buffer_size).batch(batch_size).cache().prefetch(buffer_size=AUTOTUNE)\n",
        "val_ds = val_ds.batch(batch_size).cache().prefetch(buffer_size=AUTOTUNE)\n",
        "test_ds = test_ds.batch(batch_size).cache().prefetch(buffer_size=AUTOTUNE)"
      ]
    },
    {
      "cell_type": "code",
      "execution_count": 48,
      "metadata": {},
      "outputs": [
        {
          "name": "stdout",
          "output_type": "stream",
          "text": [
            "tf.Tensor(\n",
            "[[2123  294   26  149  954 1330 2123  965  420 3693  106  196 2009  294\n",
            "  2123 1821  722 1007 2168  439 1817 3075  354 1244   49  526 1529  722\n",
            "   879  375 1503 1224  394  591 4941    5 1667 3075  354 5397 2718  560\n",
            "   375   76   65 1879 6149    4 1984 1529  394 3004 4194   11    5  872\n",
            "  2018 2084 2018 3288 8122   11    5  481 1332  829  294    1 2036  296\n",
            "   149  170 1454 2652 2596 2298 3998 3021 5261 8924 3998  412  135 1949\n",
            "   227  735  406  219  511   12  387 2228 4194    1 4941 3375 1320 3872\n",
            "  6354 3256 3763  932 3424 3590 3998 5703 6006 6232 2521 3192  404 3590\n",
            "  4476 4528    0    0    0    0    0    0]\n",
            " [1886 2754   11 8030  140   95  146  522 8715    1 5047 1305 1373   42\n",
            "   514    7    1  155   36  208  146   71   24  136 5724 1130   65 2239\n",
            "    24    5    1 1050 8020  156   11  573 5791  458   96 1433   27  307\n",
            "     1  417  284 1006 1106  380   55    1  136   79 1635 1700  308   27\n",
            "   181 1815    1 7000 1130    1  284  136  401  231  378   29  188   85\n",
            "  1006 1278    7 1130  886  531  155  345  930 1006 2152 1896   61 1373\n",
            "   284  136  146    2  448   83  276    1 1995 5212 1789  352  146    2\n",
            "   555  478  458 2941    1 6166  208   36 1014  580 1821 7602  417  146\n",
            "   448    5   24 3565  458   24 1050 1286]\n",
            " [  53 5492  433 1138  559  321   53 1120  559 3695 1138 5618  433  456\n",
            "  1594  545  559 1145  166   68   22 1504  758  575 1025 2614 1553  144\n",
            "   264  778  651  242 5590 1246  559 3699  303  273 1748  352  494 1936\n",
            "    29    3   53    2  352 1150 4075  273 1748 1363  273 1748    2   55\n",
            "  2614   17   17   17    3   53   22 1504   88  575 1324  579 1074  958\n",
            "  1241  337  195 2614 4776 3680  249  571 1253  273 1748  553    1   44\n",
            "  1449  910   16 6049 2681 1138 5618  456  195 1703  338 1027 2250    3\n",
            "  5590  607  725 2302  216  562   75 5312 1396    1 2302   22   34  375\n",
            "   144 1164  120 3458 1164    2 3925 1138]\n",
            " [1309 4337 2471   86    7   11  186   81  127   29  314 4927    1 2471\n",
            "    45  123 1204  310 1309   86  347 2064 2471  138    1  324 3608 2616\n",
            "     1   46  213    2 1415    4   90  124  680   77  137   43  832  259\n",
            "   314    7    4    5  201 4343  163 2151  313  844  495  410  314 8016\n",
            "     4   58 1154 1440  802    1  277  259   11 2562 3688 2190    1    4\n",
            "  1484    1    4 6077 2176 3257 1968    3 1309    2    6   28    1   29\n",
            "     4  750    1  127  559  259   20 2474  259  118    4   23  422  907\n",
            "     1    2    4    1 5439   77  439   46  213  928 5005 5050  115 8026\n",
            "  6629    3 1309  862    1  115  310    1]], shape=(4, 120), dtype=int64)\n",
            "tf.Tensor(\n",
            "[[0. 0. 0. 1. 0.]\n",
            " [0. 0. 0. 0. 1.]\n",
            " [0. 0. 1. 0. 0.]\n",
            " [0. 0. 1. 0. 0.]], shape=(4, 5), dtype=float32)\n"
          ]
        }
      ],
      "source": [
        "# check the data after batching\n",
        "for t, l in train_ds.take(1):\n",
        "    print(t)\n",
        "    print(l)"
      ]
    },
    {
      "cell_type": "code",
      "execution_count": 49,
      "metadata": {},
      "outputs": [
        {
          "name": "stdout",
          "output_type": "stream",
          "text": [
            "Text tf.Tensor(\n",
            "[  21  851 5088    1   86 6693    1 9406 9005    1 1867  153   21 5088\n",
            " 4287  978   82  115 9406  115  470  366    2  536 2611 1338  691  218\n",
            " 5241    1 6014  621 3162 4287 2300   16    2 2611 1142   21    1    1\n",
            "  233  553    1    1    1 2611 5926 1230    1 2210  198   80    1 2210\n",
            "    1 5623    1    1  512    2    3  366  621    1 1126 2667 1867   89\n",
            " 1848  765 2113    1 8190 5222  544    1  476 2300    1 1501   27    1\n",
            " 1639 2827  456    1    3  366    2  524  272    1  711  122   15 1323\n",
            "    1    1 3162   21  687  415 9406  332  272  173    2 1268  597 1622\n",
            " 1374 1484 9406    7   13 5088 4287   21], shape=(120,), dtype=int64)\n",
            "label tf.Tensor([0. 1. 0. 0. 0.], shape=(5,), dtype=float32)\n",
            "Text tf.Tensor(\n",
            "[1178 2041 2935 3637 3267 1178 1603  357 2935 9902 1924 3198 3637 7052\n",
            "   59   11 5269  482  240 3637  152  326  681  402   82 1559 7448  174\n",
            "  283  312  268 1178    2   72    4   41   10 2923   10   26  179  330\n",
            "   62   71   24  904 1265 1178 2588 1894 2935  215 2666  820   12  561\n",
            "    1    1 4587 5634 3740  281  418   76  206   27  116   85  233   17\n",
            "  410 5758 9475    1 2186 2923 2756  730   90   20  138 1025  116 2035\n",
            "  501 2990 9557 1029 1379  582  495 3740   72  126 1924 3637   65   10\n",
            "    7 2557   43 4140  245   43 4140 3740   65   14   28  399  919 8500\n",
            "  573  205 2935  100  482 1924  310    1], shape=(120,), dtype=int64)\n",
            "label tf.Tensor([0. 0. 0. 1. 0.], shape=(5,), dtype=float32)\n",
            "Text tf.Tensor(\n",
            "[ 612   21   58  620 1681  689    1  281  197 9380  612 1081  242  677\n",
            "    9 2631   21  620  307  904  891    1 3678  620 1565  364 1795  612\n",
            " 1296  418  382  197  207 8274  209 1131  242 1853  620 1745 3008  364\n",
            "  109    1 3046  236 1099  901 5982    5 1853  620  946   21   76  242\n",
            "    1  198  207 8274  902  185  418  121  246 4584  113 2039  522 3874\n",
            "  433  456  361 1047    5 1333 2206 9748  382  197  121 1518 7148 7805\n",
            " 1023    1    1 1380  808 8120    1    1 2976   21 1028  914    1 4218\n",
            "  612    5 1795 4258  242  100 8274 1873 1036    1   39    1 1850 5453\n",
            "    1    1 7064  347 8447    1    1 5240], shape=(120,), dtype=int64)\n",
            "label tf.Tensor([0. 1. 0. 0. 0.], shape=(5,), dtype=float32)\n",
            "Text tf.Tensor(\n",
            "[ 453 4022 2673 3575  143   82  453 6518    1 4764  294 3768  440  131\n",
            "   18 3575  143  415 2019 1544 2116 2674 1176  562 4991 3576  656 1296\n",
            " 3576 4720    5  911    1   68 2217    1 4385  453 3800  275 8624    6\n",
            "  136  860 3028    1 3576 3486 1767 3575 6691   30    1    1    4 9550\n",
            " 7509  314    7    4 1153 3576 1073    1  314  930 8049   96 2508   80\n",
            "  444  777 3102 1337  443  131   18   16  902 1084  657 2425 2790 3575\n",
            " 2812 1618  106  415  562  294 1419 1662    1 4720 7207    1    5 2024\n",
            "    3    1 3159 1337 1092 3151 3576  143 2073  562  488 9503 8832    2\n",
            "   42  176    1 2790    1  183 9642 3486], shape=(120,), dtype=int64)\n",
            "label tf.Tensor([0. 0. 1. 0. 0.], shape=(5,), dtype=float32)\n"
          ]
        }
      ],
      "source": [
        "# check the data after batching\n",
        "for text_bt, label_bt in train_ds.take(1):\n",
        "    for i in range(batch_size):\n",
        "        print(\"Text\", text_bt[i])\n",
        "        print(\"label\", label_bt[i])"
      ]
    },
    {
      "cell_type": "code",
      "execution_count": 50,
      "metadata": {},
      "outputs": [
        {
          "name": "stdout",
          "output_type": "stream",
          "text": [
            "text: tf.Tensor(\n",
            "[[6478 4934 1540 6478  329 9804  142   52  529  222  967 4347   40 1542\n",
            "   104  804   12  461   48 2155   69   48    9  264  967 1612   48 2155\n",
            "  6478 1302  118  489 1685  189 4273  668  226  119 3388  373 6478    2\n",
            "   425  218 1620  228  301 1411  283  616  281 2507    2    1    1  850\n",
            "     1  803 3216  870 6680   57   43   88    1   93  528   48 2155   10\n",
            "   358 3951 6478  164 4630  880    2 1755  129  868 6102 1166 1970   23\n",
            "   284    2 9673    1  541 6478  789 2102  329 3687  280    1    1    0\n",
            "     0    0    0    0    0    0    0    0    0    0    0    0    0    0\n",
            "     0    0    0    0    0    0    0    0]\n",
            " [ 383 3262  163  145  229  383  413 1486  860  229  163    1  272   14\n",
            "     1 5173 2629    1  562 1186 2629 1954 1231    1  625  364  379 7639\n",
            "  7179  145 7179    1 7639    1 1870 2400 1231  379  625    7 2681 5948\n",
            "  3714 5173  727    1 3696  625   17  448  145  933    7    1 5662  109\n",
            "   562   22   34   88  348   82  373 2336   44 2629   41  121 1448  314\n",
            "  5173    1  562 5271  326  379 7639 7179  145   75   13  173 1950    1\n",
            "   550 1232  860 2629  114  731 2741 7549 7639 7179   39    1 1486  391\n",
            "    11   90  495 1486 4505  379 7639 7179  145    2    3 5662    4  573\n",
            "    11   76 6089   67  249 1254 6004 1026]\n",
            " [ 421  825 3858   47 5021  477  857 1276  289 2076 3222  144   47  173\n",
            "   470  565    2 4975 5021   60 2770  575    2 6257    1 2137   22 3987\n",
            "    32 3845   77  688  316  439 3921  832  794  791   60 2986 3389  789\n",
            "   941    1    3  565    2    7   71 6350    1  340   60 1302  307 2082\n",
            "   108  477  857 2210  433  456    2    5 1421  218  787   16   86 1012\n",
            "   602 4315  990 3294    2 1348  778   43  427 3464    7  349   60 4168\n",
            "   724   60 1602  784   55   60    2  166   68 5059  303  306   60 3811\n",
            "  2797 1284    2   30   32  421  825 3673  846  272  581  578 3921 3249\n",
            "   645  272  995  128  284  840    3  565]\n",
            " [ 772  843  743  357 2068  772  843 1551  743    2 5440  384  849 1279\n",
            "     1  193  364 4268  475  137 1350    1 2048  812    1 2176   56    1\n",
            "  8457 4098  476  812 1308 5407 5264    8  429 4035  680 8414 1449 3162\n",
            "    97 6932    1    2 1641 4912  429  318   58  210  417  827  911 1126\n",
            "   159 1855  643 4035  346 1855   38  215 4268 1307 7861    2 1641    8\n",
            "   894  734 4042  475 3073  355 2443 1218 5623  193 6393    1   58 1338\n",
            "  2063  743  809    4   50 6071  772  812  195  847    1    1  644  982\n",
            "   344 4146  491 3721 4728 1276  285  812 4728 1123   20 1383  491    1\n",
            "   241  707    1 1550 3060  545  373  518]], shape=(4, 120), dtype=int64)\n",
            "label: tf.Tensor(\n",
            "[[1. 0. 0. 0. 0.]\n",
            " [0. 0. 0. 0. 1.]\n",
            " [0. 0. 1. 0. 0.]\n",
            " [0. 1. 0. 0. 0.]], shape=(4, 5), dtype=float32)\n"
          ]
        }
      ],
      "source": [
        "# check the data after batching\n",
        "first_text, first_label = next(iter(train_ds))\n",
        "print(\"text:\", first_text)\n",
        "print(\"label:\", first_label)"
      ]
    },
    {
      "cell_type": "markdown",
      "metadata": {
        "id": "VgrCDfcZP8nU"
      },
      "source": [
        "# Model Building"
      ]
    },
    {
      "cell_type": "markdown",
      "metadata": {},
      "source": [
        "### Simple model: build and train"
      ]
    },
    {
      "cell_type": "code",
      "execution_count": 51,
      "metadata": {
        "id": "UHbGaHMwQ3qm"
      },
      "outputs": [
        {
          "data": {
            "text/html": [
              "<pre style=\"white-space:pre;overflow-x:auto;line-height:normal;font-family:Menlo,'DejaVu Sans Mono',consolas,'Courier New',monospace\"><span style=\"font-weight: bold\">Model: \"sequential\"</span>\n",
              "</pre>\n"
            ],
            "text/plain": [
              "\u001b[1mModel: \"sequential\"\u001b[0m\n"
            ]
          },
          "metadata": {},
          "output_type": "display_data"
        },
        {
          "data": {
            "text/html": [
              "<pre style=\"white-space:pre;overflow-x:auto;line-height:normal;font-family:Menlo,'DejaVu Sans Mono',consolas,'Courier New',monospace\">┏━━━━━━━━━━━━━━━━━━━━━━━━━━━━━━━━━┳━━━━━━━━━━━━━━━━━━━━━━━━┳━━━━━━━━━━━━━━━┓\n",
              "┃<span style=\"font-weight: bold\"> Layer (type)                    </span>┃<span style=\"font-weight: bold\"> Output Shape           </span>┃<span style=\"font-weight: bold\">       Param # </span>┃\n",
              "┡━━━━━━━━━━━━━━━━━━━━━━━━━━━━━━━━━╇━━━━━━━━━━━━━━━━━━━━━━━━╇━━━━━━━━━━━━━━━┩\n",
              "│ embedding (<span style=\"color: #0087ff; text-decoration-color: #0087ff\">Embedding</span>)           │ (<span style=\"color: #00d7ff; text-decoration-color: #00d7ff\">None</span>, <span style=\"color: #00af00; text-decoration-color: #00af00\">120</span>, <span style=\"color: #00af00; text-decoration-color: #00af00\">8</span>)         │        <span style=\"color: #00af00; text-decoration-color: #00af00\">80,000</span> │\n",
              "├─────────────────────────────────┼────────────────────────┼───────────────┤\n",
              "│ global_average_pooling1d        │ (<span style=\"color: #00d7ff; text-decoration-color: #00d7ff\">None</span>, <span style=\"color: #00af00; text-decoration-color: #00af00\">8</span>)              │             <span style=\"color: #00af00; text-decoration-color: #00af00\">0</span> │\n",
              "│ (<span style=\"color: #0087ff; text-decoration-color: #0087ff\">GlobalAveragePooling1D</span>)        │                        │               │\n",
              "├─────────────────────────────────┼────────────────────────┼───────────────┤\n",
              "│ dense (<span style=\"color: #0087ff; text-decoration-color: #0087ff\">Dense</span>)                   │ (<span style=\"color: #00d7ff; text-decoration-color: #00d7ff\">None</span>, <span style=\"color: #00af00; text-decoration-color: #00af00\">5</span>)              │            <span style=\"color: #00af00; text-decoration-color: #00af00\">45</span> │\n",
              "└─────────────────────────────────┴────────────────────────┴───────────────┘\n",
              "</pre>\n"
            ],
            "text/plain": [
              "┏━━━━━━━━━━━━━━━━━━━━━━━━━━━━━━━━━┳━━━━━━━━━━━━━━━━━━━━━━━━┳━━━━━━━━━━━━━━━┓\n",
              "┃\u001b[1m \u001b[0m\u001b[1mLayer (type)                   \u001b[0m\u001b[1m \u001b[0m┃\u001b[1m \u001b[0m\u001b[1mOutput Shape          \u001b[0m\u001b[1m \u001b[0m┃\u001b[1m \u001b[0m\u001b[1m      Param #\u001b[0m\u001b[1m \u001b[0m┃\n",
              "┡━━━━━━━━━━━━━━━━━━━━━━━━━━━━━━━━━╇━━━━━━━━━━━━━━━━━━━━━━━━╇━━━━━━━━━━━━━━━┩\n",
              "│ embedding (\u001b[38;5;33mEmbedding\u001b[0m)           │ (\u001b[38;5;45mNone\u001b[0m, \u001b[38;5;34m120\u001b[0m, \u001b[38;5;34m8\u001b[0m)         │        \u001b[38;5;34m80,000\u001b[0m │\n",
              "├─────────────────────────────────┼────────────────────────┼───────────────┤\n",
              "│ global_average_pooling1d        │ (\u001b[38;5;45mNone\u001b[0m, \u001b[38;5;34m8\u001b[0m)              │             \u001b[38;5;34m0\u001b[0m │\n",
              "│ (\u001b[38;5;33mGlobalAveragePooling1D\u001b[0m)        │                        │               │\n",
              "├─────────────────────────────────┼────────────────────────┼───────────────┤\n",
              "│ dense (\u001b[38;5;33mDense\u001b[0m)                   │ (\u001b[38;5;45mNone\u001b[0m, \u001b[38;5;34m5\u001b[0m)              │            \u001b[38;5;34m45\u001b[0m │\n",
              "└─────────────────────────────────┴────────────────────────┴───────────────┘\n"
            ]
          },
          "metadata": {},
          "output_type": "display_data"
        },
        {
          "data": {
            "text/html": [
              "<pre style=\"white-space:pre;overflow-x:auto;line-height:normal;font-family:Menlo,'DejaVu Sans Mono',consolas,'Courier New',monospace\"><span style=\"font-weight: bold\"> Total params: </span><span style=\"color: #00af00; text-decoration-color: #00af00\">80,045</span> (312.68 KB)\n",
              "</pre>\n"
            ],
            "text/plain": [
              "\u001b[1m Total params: \u001b[0m\u001b[38;5;34m80,045\u001b[0m (312.68 KB)\n"
            ]
          },
          "metadata": {},
          "output_type": "display_data"
        },
        {
          "data": {
            "text/html": [
              "<pre style=\"white-space:pre;overflow-x:auto;line-height:normal;font-family:Menlo,'DejaVu Sans Mono',consolas,'Courier New',monospace\"><span style=\"font-weight: bold\"> Trainable params: </span><span style=\"color: #00af00; text-decoration-color: #00af00\">80,045</span> (312.68 KB)\n",
              "</pre>\n"
            ],
            "text/plain": [
              "\u001b[1m Trainable params: \u001b[0m\u001b[38;5;34m80,045\u001b[0m (312.68 KB)\n"
            ]
          },
          "metadata": {},
          "output_type": "display_data"
        },
        {
          "data": {
            "text/html": [
              "<pre style=\"white-space:pre;overflow-x:auto;line-height:normal;font-family:Menlo,'DejaVu Sans Mono',consolas,'Courier New',monospace\"><span style=\"font-weight: bold\"> Non-trainable params: </span><span style=\"color: #00af00; text-decoration-color: #00af00\">0</span> (0.00 B)\n",
              "</pre>\n"
            ],
            "text/plain": [
              "\u001b[1m Non-trainable params: \u001b[0m\u001b[38;5;34m0\u001b[0m (0.00 B)\n"
            ]
          },
          "metadata": {},
          "output_type": "display_data"
        }
      ],
      "source": [
        "# Simple model  (e.g., Logistic Regression or Naive Bayes).\n",
        "# For the simple model, I have used a logistic regression equivalent NN, with the embedding layer\n",
        "\n",
        "# I am using an embedding of 16 # could be a hyper-parameter\n",
        "embedding_dim = 8\n",
        "simple_model = tf.keras.Sequential([\n",
        "  layers.InputLayer(shape=(sentence_length,)),\n",
        "  layers.Embedding(vocab_size, embedding_dim),\n",
        "  layers.GlobalAveragePooling1D(),\n",
        "  layers.Dense(units = 5, activation='softmax'),\n",
        "])\n",
        "\n",
        "# model summary\n",
        "simple_model.summary()"
      ]
    },
    {
      "cell_type": "code",
      "execution_count": 52,
      "metadata": {},
      "outputs": [],
      "source": [
        "# Let's compile the keras Sequential model\n",
        "# For the multiclass problem, CategoricalCrossengropy loss is used\n",
        "lr = 0.001\n",
        "simple_model.compile(loss=tf.keras.losses.CategoricalCrossentropy(),\n",
        "              optimizer=tf.keras.optimizers.Adam(learning_rate=lr),\n",
        "              metrics=['accuracy'])"
      ]
    },
    {
      "cell_type": "code",
      "execution_count": 53,
      "metadata": {},
      "outputs": [],
      "source": [
        "# Code to plot the model summary visually\n",
        "#model.build()\n",
        "#tf.keras.utils.plot_model(model, show_shapes=True, show_dtype=True, \n",
        "                          #show_layer_names=True, rankdir='TB', show_layer_activations=True, \\\n",
        "                          #expand_nested=True, dpi=80)"
      ]
    },
    {
      "cell_type": "code",
      "execution_count": 54,
      "metadata": {},
      "outputs": [
        {
          "name": "stdout",
          "output_type": "stream",
          "text": [
            "Epoch 1/30\n",
            "\u001b[1m252/252\u001b[0m \u001b[32m━━━━━━━━━━━━━━━━━━━━\u001b[0m\u001b[37m\u001b[0m \u001b[1m2s\u001b[0m 3ms/step - accuracy: 0.4325 - loss: 1.5912 - val_accuracy: 0.7407 - val_loss: 1.4866\n",
            "Epoch 2/30\n",
            "\u001b[1m252/252\u001b[0m \u001b[32m━━━━━━━━━━━━━━━━━━━━\u001b[0m\u001b[37m\u001b[0m \u001b[1m1s\u001b[0m 2ms/step - accuracy: 0.7050 - loss: 1.4500 - val_accuracy: 0.8935 - val_loss: 1.2631\n",
            "Epoch 3/30\n",
            "\u001b[1m252/252\u001b[0m \u001b[32m━━━━━━━━━━━━━━━━━━━━\u001b[0m\u001b[37m\u001b[0m \u001b[1m0s\u001b[0m 2ms/step - accuracy: 0.8605 - loss: 1.2188 - val_accuracy: 0.9491 - val_loss: 1.0032\n",
            "Epoch 4/30\n",
            "\u001b[1m252/252\u001b[0m \u001b[32m━━━━━━━━━━━━━━━━━━━━\u001b[0m\u001b[37m\u001b[0m \u001b[1m0s\u001b[0m 2ms/step - accuracy: 0.9266 - loss: 0.9581 - val_accuracy: 0.9769 - val_loss: 0.7603\n",
            "Epoch 5/30\n",
            "\u001b[1m252/252\u001b[0m \u001b[32m━━━━━━━━━━━━━━━━━━━━\u001b[0m\u001b[37m\u001b[0m \u001b[1m0s\u001b[0m 2ms/step - accuracy: 0.9642 - loss: 0.7243 - val_accuracy: 0.9907 - val_loss: 0.5682\n",
            "Epoch 6/30\n",
            "\u001b[1m252/252\u001b[0m \u001b[32m━━━━━━━━━━━━━━━━━━━━\u001b[0m\u001b[37m\u001b[0m \u001b[1m0s\u001b[0m 2ms/step - accuracy: 0.9793 - loss: 0.5435 - val_accuracy: 0.9907 - val_loss: 0.4275\n",
            "Epoch 7/30\n",
            "\u001b[1m252/252\u001b[0m \u001b[32m━━━━━━━━━━━━━━━━━━━━\u001b[0m\u001b[37m\u001b[0m \u001b[1m0s\u001b[0m 2ms/step - accuracy: 0.9857 - loss: 0.4113 - val_accuracy: 0.9954 - val_loss: 0.3264\n",
            "Epoch 8/30\n",
            "\u001b[1m252/252\u001b[0m \u001b[32m━━━━━━━━━━━━━━━━━━━━\u001b[0m\u001b[37m\u001b[0m \u001b[1m0s\u001b[0m 2ms/step - accuracy: 0.9933 - loss: 0.3150 - val_accuracy: 0.9954 - val_loss: 0.2534\n",
            "Epoch 9/30\n",
            "\u001b[1m252/252\u001b[0m \u001b[32m━━━━━━━━━━━━━━━━━━━━\u001b[0m\u001b[37m\u001b[0m \u001b[1m0s\u001b[0m 2ms/step - accuracy: 0.9949 - loss: 0.2442 - val_accuracy: 0.9954 - val_loss: 0.2001\n",
            "Epoch 10/30\n",
            "\u001b[1m252/252\u001b[0m \u001b[32m━━━━━━━━━━━━━━━━━━━━\u001b[0m\u001b[37m\u001b[0m \u001b[1m1s\u001b[0m 2ms/step - accuracy: 0.9949 - loss: 0.1914 - val_accuracy: 0.9954 - val_loss: 0.1607\n",
            "Epoch 11/30\n",
            "\u001b[1m252/252\u001b[0m \u001b[32m━━━━━━━━━━━━━━━━━━━━\u001b[0m\u001b[37m\u001b[0m \u001b[1m0s\u001b[0m 2ms/step - accuracy: 0.9950 - loss: 0.1515 - val_accuracy: 0.9954 - val_loss: 0.1311\n",
            "Epoch 12/30\n",
            "\u001b[1m252/252\u001b[0m \u001b[32m━━━━━━━━━━━━━━━━━━━━\u001b[0m\u001b[37m\u001b[0m \u001b[1m0s\u001b[0m 2ms/step - accuracy: 0.9950 - loss: 0.1210 - val_accuracy: 0.9954 - val_loss: 0.1085\n",
            "Epoch 13/30\n",
            "\u001b[1m252/252\u001b[0m \u001b[32m━━━━━━━━━━━━━━━━━━━━\u001b[0m\u001b[37m\u001b[0m \u001b[1m0s\u001b[0m 2ms/step - accuracy: 0.9978 - loss: 0.0975 - val_accuracy: 0.9954 - val_loss: 0.0910\n",
            "Epoch 14/30\n",
            "\u001b[1m252/252\u001b[0m \u001b[32m━━━━━━━━━━━━━━━━━━━━\u001b[0m\u001b[37m\u001b[0m \u001b[1m0s\u001b[0m 2ms/step - accuracy: 0.9988 - loss: 0.0791 - val_accuracy: 0.9954 - val_loss: 0.0772\n",
            "Epoch 15/30\n",
            "\u001b[1m252/252\u001b[0m \u001b[32m━━━━━━━━━━━━━━━━━━━━\u001b[0m\u001b[37m\u001b[0m \u001b[1m1s\u001b[0m 2ms/step - accuracy: 0.9988 - loss: 0.0646 - val_accuracy: 0.9954 - val_loss: 0.0663\n",
            "Epoch 16/30\n",
            "\u001b[1m252/252\u001b[0m \u001b[32m━━━━━━━━━━━━━━━━━━━━\u001b[0m\u001b[37m\u001b[0m \u001b[1m1s\u001b[0m 2ms/step - accuracy: 0.9990 - loss: 0.0531 - val_accuracy: 1.0000 - val_loss: 0.0575\n",
            "Epoch 17/30\n",
            "\u001b[1m252/252\u001b[0m \u001b[32m━━━━━━━━━━━━━━━━━━━━\u001b[0m\u001b[37m\u001b[0m \u001b[1m1s\u001b[0m 2ms/step - accuracy: 0.9990 - loss: 0.0439 - val_accuracy: 1.0000 - val_loss: 0.0503\n",
            "Epoch 18/30\n",
            "\u001b[1m252/252\u001b[0m \u001b[32m━━━━━━━━━━━━━━━━━━━━\u001b[0m\u001b[37m\u001b[0m \u001b[1m0s\u001b[0m 2ms/step - accuracy: 1.0000 - loss: 0.0365 - val_accuracy: 1.0000 - val_loss: 0.0444\n",
            "Epoch 19/30\n",
            "\u001b[1m252/252\u001b[0m \u001b[32m━━━━━━━━━━━━━━━━━━━━\u001b[0m\u001b[37m\u001b[0m \u001b[1m0s\u001b[0m 2ms/step - accuracy: 1.0000 - loss: 0.0304 - val_accuracy: 1.0000 - val_loss: 0.0394\n",
            "Epoch 20/30\n",
            "\u001b[1m252/252\u001b[0m \u001b[32m━━━━━━━━━━━━━━━━━━━━\u001b[0m\u001b[37m\u001b[0m \u001b[1m0s\u001b[0m 2ms/step - accuracy: 1.0000 - loss: 0.0255 - val_accuracy: 1.0000 - val_loss: 0.0353\n",
            "Epoch 21/30\n",
            "\u001b[1m252/252\u001b[0m \u001b[32m━━━━━━━━━━━━━━━━━━━━\u001b[0m\u001b[37m\u001b[0m \u001b[1m0s\u001b[0m 2ms/step - accuracy: 1.0000 - loss: 0.0214 - val_accuracy: 1.0000 - val_loss: 0.0318\n",
            "Epoch 22/30\n",
            "\u001b[1m252/252\u001b[0m \u001b[32m━━━━━━━━━━━━━━━━━━━━\u001b[0m\u001b[37m\u001b[0m \u001b[1m0s\u001b[0m 2ms/step - accuracy: 1.0000 - loss: 0.0181 - val_accuracy: 1.0000 - val_loss: 0.0287\n",
            "Epoch 23/30\n",
            "\u001b[1m252/252\u001b[0m \u001b[32m━━━━━━━━━━━━━━━━━━━━\u001b[0m\u001b[37m\u001b[0m \u001b[1m0s\u001b[0m 2ms/step - accuracy: 1.0000 - loss: 0.0153 - val_accuracy: 1.0000 - val_loss: 0.0261\n",
            "Epoch 24/30\n",
            "\u001b[1m252/252\u001b[0m \u001b[32m━━━━━━━━━━━━━━━━━━━━\u001b[0m\u001b[37m\u001b[0m \u001b[1m0s\u001b[0m 2ms/step - accuracy: 1.0000 - loss: 0.0130 - val_accuracy: 1.0000 - val_loss: 0.0239\n",
            "Epoch 25/30\n",
            "\u001b[1m252/252\u001b[0m \u001b[32m━━━━━━━━━━━━━━━━━━━━\u001b[0m\u001b[37m\u001b[0m \u001b[1m0s\u001b[0m 2ms/step - accuracy: 1.0000 - loss: 0.0111 - val_accuracy: 1.0000 - val_loss: 0.0219\n",
            "Epoch 26/30\n",
            "\u001b[1m252/252\u001b[0m \u001b[32m━━━━━━━━━━━━━━━━━━━━\u001b[0m\u001b[37m\u001b[0m \u001b[1m1s\u001b[0m 2ms/step - accuracy: 1.0000 - loss: 0.0094 - val_accuracy: 1.0000 - val_loss: 0.0202\n",
            "Epoch 27/30\n",
            "\u001b[1m252/252\u001b[0m \u001b[32m━━━━━━━━━━━━━━━━━━━━\u001b[0m\u001b[37m\u001b[0m \u001b[1m1s\u001b[0m 2ms/step - accuracy: 1.0000 - loss: 0.0081 - val_accuracy: 1.0000 - val_loss: 0.0187\n",
            "Epoch 28/30\n",
            "\u001b[1m252/252\u001b[0m \u001b[32m━━━━━━━━━━━━━━━━━━━━\u001b[0m\u001b[37m\u001b[0m \u001b[1m0s\u001b[0m 2ms/step - accuracy: 1.0000 - loss: 0.0069 - val_accuracy: 1.0000 - val_loss: 0.0173\n",
            "Epoch 29/30\n",
            "\u001b[1m252/252\u001b[0m \u001b[32m━━━━━━━━━━━━━━━━━━━━\u001b[0m\u001b[37m\u001b[0m \u001b[1m1s\u001b[0m 2ms/step - accuracy: 1.0000 - loss: 0.0059 - val_accuracy: 1.0000 - val_loss: 0.0161\n",
            "Epoch 30/30\n",
            "\u001b[1m252/252\u001b[0m \u001b[32m━━━━━━━━━━━━━━━━━━━━\u001b[0m\u001b[37m\u001b[0m \u001b[1m0s\u001b[0m 2ms/step - accuracy: 1.0000 - loss: 0.0051 - val_accuracy: 1.0000 - val_loss: 0.0150\n"
          ]
        }
      ],
      "source": [
        "# Let's train the network now\n",
        "epochs = 30\n",
        "sm_history = simple_model.fit( train_ds, validation_data=val_ds, epochs=epochs)"
      ]
    },
    {
      "cell_type": "code",
      "execution_count": 55,
      "metadata": {},
      "outputs": [
        {
          "data": {
            "text/plain": [
              "<matplotlib.legend.Legend at 0x15b738f72d0>"
            ]
          },
          "execution_count": 55,
          "metadata": {},
          "output_type": "execute_result"
        },
        {
          "data": {
            "image/png": "[encoded data removed]",
            "text/plain": [
              "<Figure size 640x480 with 1 Axes>"
            ]
          },
          "metadata": {},
          "output_type": "display_data"
        }
      ],
      "source": [
        "plt.plot(sm_history.history['loss'],label='loss')\n",
        "plt.plot(sm_history.history['val_loss'],label='val_loss')\n",
        "plt.legend()"
      ]
    },
    {
      "cell_type": "code",
      "execution_count": 56,
      "metadata": {},
      "outputs": [
        {
          "data": {
            "text/plain": [
              "<matplotlib.legend.Legend at 0x15b738c9550>"
            ]
          },
          "execution_count": 56,
          "metadata": {},
          "output_type": "execute_result"
        },
        {
          "data": {
            "image/png": "[encoded data removed]",
            "text/plain": [
              "<Figure size 640x480 with 1 Axes>"
            ]
          },
          "metadata": {},
          "output_type": "display_data"
        }
      ],
      "source": [
        "plt.plot(sm_history.history['accuracy'],label='accuracy')\n",
        "plt.plot(sm_history.history['val_accuracy'],label='val_accuracy')\n",
        "plt.legend()"
      ]
    },
    {
      "cell_type": "markdown",
      "metadata": {},
      "source": [
        "### Complex model: build and train"
      ]
    },
    {
      "cell_type": "code",
      "execution_count": 57,
      "metadata": {
        "id": "mFfq5JU1Q6_8"
      },
      "outputs": [
        {
          "data": {
            "text/html": [
              "<pre style=\"white-space:pre;overflow-x:auto;line-height:normal;font-family:Menlo,'DejaVu Sans Mono',consolas,'Courier New',monospace\"><span style=\"font-weight: bold\">Model: \"sequential_1\"</span>\n",
              "</pre>\n"
            ],
            "text/plain": [
              "\u001b[1mModel: \"sequential_1\"\u001b[0m\n"
            ]
          },
          "metadata": {},
          "output_type": "display_data"
        },
        {
          "data": {
            "text/html": [
              "<pre style=\"white-space:pre;overflow-x:auto;line-height:normal;font-family:Menlo,'DejaVu Sans Mono',consolas,'Courier New',monospace\">┏━━━━━━━━━━━━━━━━━━━━━━━━━━━━━━━━━┳━━━━━━━━━━━━━━━━━━━━━━━━┳━━━━━━━━━━━━━━━┓\n",
              "┃<span style=\"font-weight: bold\"> Layer (type)                    </span>┃<span style=\"font-weight: bold\"> Output Shape           </span>┃<span style=\"font-weight: bold\">       Param # </span>┃\n",
              "┡━━━━━━━━━━━━━━━━━━━━━━━━━━━━━━━━━╇━━━━━━━━━━━━━━━━━━━━━━━━╇━━━━━━━━━━━━━━━┩\n",
              "│ embedding_1 (<span style=\"color: #0087ff; text-decoration-color: #0087ff\">Embedding</span>)         │ (<span style=\"color: #00d7ff; text-decoration-color: #00d7ff\">None</span>, <span style=\"color: #00af00; text-decoration-color: #00af00\">120</span>, <span style=\"color: #00af00; text-decoration-color: #00af00\">32</span>)        │       <span style=\"color: #00af00; text-decoration-color: #00af00\">320,000</span> │\n",
              "├─────────────────────────────────┼────────────────────────┼───────────────┤\n",
              "│ spatial_dropout1d               │ (<span style=\"color: #00d7ff; text-decoration-color: #00d7ff\">None</span>, <span style=\"color: #00af00; text-decoration-color: #00af00\">120</span>, <span style=\"color: #00af00; text-decoration-color: #00af00\">32</span>)        │             <span style=\"color: #00af00; text-decoration-color: #00af00\">0</span> │\n",
              "│ (<span style=\"color: #0087ff; text-decoration-color: #0087ff\">SpatialDropout1D</span>)              │                        │               │\n",
              "├─────────────────────────────────┼────────────────────────┼───────────────┤\n",
              "│ bidirectional (<span style=\"color: #0087ff; text-decoration-color: #0087ff\">Bidirectional</span>)   │ (<span style=\"color: #00d7ff; text-decoration-color: #00d7ff\">None</span>, <span style=\"color: #00af00; text-decoration-color: #00af00\">120</span>, <span style=\"color: #00af00; text-decoration-color: #00af00\">64</span>)        │        <span style=\"color: #00af00; text-decoration-color: #00af00\">16,640</span> │\n",
              "├─────────────────────────────────┼────────────────────────┼───────────────┤\n",
              "│ bidirectional_1 (<span style=\"color: #0087ff; text-decoration-color: #0087ff\">Bidirectional</span>) │ (<span style=\"color: #00d7ff; text-decoration-color: #00d7ff\">None</span>, <span style=\"color: #00af00; text-decoration-color: #00af00\">32</span>)             │        <span style=\"color: #00af00; text-decoration-color: #00af00\">10,368</span> │\n",
              "├─────────────────────────────────┼────────────────────────┼───────────────┤\n",
              "│ dense_1 (<span style=\"color: #0087ff; text-decoration-color: #0087ff\">Dense</span>)                 │ (<span style=\"color: #00d7ff; text-decoration-color: #00d7ff\">None</span>, <span style=\"color: #00af00; text-decoration-color: #00af00\">5</span>)              │           <span style=\"color: #00af00; text-decoration-color: #00af00\">165</span> │\n",
              "└─────────────────────────────────┴────────────────────────┴───────────────┘\n",
              "</pre>\n"
            ],
            "text/plain": [
              "┏━━━━━━━━━━━━━━━━━━━━━━━━━━━━━━━━━┳━━━━━━━━━━━━━━━━━━━━━━━━┳━━━━━━━━━━━━━━━┓\n",
              "┃\u001b[1m \u001b[0m\u001b[1mLayer (type)                   \u001b[0m\u001b[1m \u001b[0m┃\u001b[1m \u001b[0m\u001b[1mOutput Shape          \u001b[0m\u001b[1m \u001b[0m┃\u001b[1m \u001b[0m\u001b[1m      Param #\u001b[0m\u001b[1m \u001b[0m┃\n",
              "┡━━━━━━━━━━━━━━━━━━━━━━━━━━━━━━━━━╇━━━━━━━━━━━━━━━━━━━━━━━━╇━━━━━━━━━━━━━━━┩\n",
              "│ embedding_1 (\u001b[38;5;33mEmbedding\u001b[0m)         │ (\u001b[38;5;45mNone\u001b[0m, \u001b[38;5;34m120\u001b[0m, \u001b[38;5;34m32\u001b[0m)        │       \u001b[38;5;34m320,000\u001b[0m │\n",
              "├─────────────────────────────────┼────────────────────────┼───────────────┤\n",
              "│ spatial_dropout1d               │ (\u001b[38;5;45mNone\u001b[0m, \u001b[38;5;34m120\u001b[0m, \u001b[38;5;34m32\u001b[0m)        │             \u001b[38;5;34m0\u001b[0m │\n",
              "│ (\u001b[38;5;33mSpatialDropout1D\u001b[0m)              │                        │               │\n",
              "├─────────────────────────────────┼────────────────────────┼───────────────┤\n",
              "│ bidirectional (\u001b[38;5;33mBidirectional\u001b[0m)   │ (\u001b[38;5;45mNone\u001b[0m, \u001b[38;5;34m120\u001b[0m, \u001b[38;5;34m64\u001b[0m)        │        \u001b[38;5;34m16,640\u001b[0m │\n",
              "├─────────────────────────────────┼────────────────────────┼───────────────┤\n",
              "│ bidirectional_1 (\u001b[38;5;33mBidirectional\u001b[0m) │ (\u001b[38;5;45mNone\u001b[0m, \u001b[38;5;34m32\u001b[0m)             │        \u001b[38;5;34m10,368\u001b[0m │\n",
              "├─────────────────────────────────┼────────────────────────┼───────────────┤\n",
              "│ dense_1 (\u001b[38;5;33mDense\u001b[0m)                 │ (\u001b[38;5;45mNone\u001b[0m, \u001b[38;5;34m5\u001b[0m)              │           \u001b[38;5;34m165\u001b[0m │\n",
              "└─────────────────────────────────┴────────────────────────┴───────────────┘\n"
            ]
          },
          "metadata": {},
          "output_type": "display_data"
        },
        {
          "data": {
            "text/html": [
              "<pre style=\"white-space:pre;overflow-x:auto;line-height:normal;font-family:Menlo,'DejaVu Sans Mono',consolas,'Courier New',monospace\"><span style=\"font-weight: bold\"> Total params: </span><span style=\"color: #00af00; text-decoration-color: #00af00\">347,173</span> (1.32 MB)\n",
              "</pre>\n"
            ],
            "text/plain": [
              "\u001b[1m Total params: \u001b[0m\u001b[38;5;34m347,173\u001b[0m (1.32 MB)\n"
            ]
          },
          "metadata": {},
          "output_type": "display_data"
        },
        {
          "data": {
            "text/html": [
              "<pre style=\"white-space:pre;overflow-x:auto;line-height:normal;font-family:Menlo,'DejaVu Sans Mono',consolas,'Courier New',monospace\"><span style=\"font-weight: bold\"> Trainable params: </span><span style=\"color: #00af00; text-decoration-color: #00af00\">347,173</span> (1.32 MB)\n",
              "</pre>\n"
            ],
            "text/plain": [
              "\u001b[1m Trainable params: \u001b[0m\u001b[38;5;34m347,173\u001b[0m (1.32 MB)\n"
            ]
          },
          "metadata": {},
          "output_type": "display_data"
        },
        {
          "data": {
            "text/html": [
              "<pre style=\"white-space:pre;overflow-x:auto;line-height:normal;font-family:Menlo,'DejaVu Sans Mono',consolas,'Courier New',monospace\"><span style=\"font-weight: bold\"> Non-trainable params: </span><span style=\"color: #00af00; text-decoration-color: #00af00\">0</span> (0.00 B)\n",
              "</pre>\n"
            ],
            "text/plain": [
              "\u001b[1m Non-trainable params: \u001b[0m\u001b[38;5;34m0\u001b[0m (0.00 B)\n"
            ]
          },
          "metadata": {},
          "output_type": "display_data"
        }
      ],
      "source": [
        "# Complex model (e.g., Random Forest or a neural network model).\n",
        "embedding_dim = 32\n",
        "complex_model = tf.keras.Sequential([\n",
        "  layers.InputLayer(shape=(sentence_length,)),\n",
        "  layers.Embedding(vocab_size, embedding_dim),\n",
        "  layers.SpatialDropout1D(0.7),\n",
        "  layers.Bidirectional(layers.LSTM(32, recurrent_dropout=0.7, return_sequences=True)),\n",
        "  layers.Bidirectional(layers.LSTM(16)),\n",
        "  layers.Dense(units = 5, activation='softmax'),\n",
        "])\n",
        "\n",
        "# model summary\n",
        "complex_model.summary()"
      ]
    },
    {
      "cell_type": "code",
      "execution_count": 58,
      "metadata": {},
      "outputs": [],
      "source": [
        "# Let's compile the keras Sequential model\n",
        "# For the multiclass problem, CategoricalCrossengropy loss is used\n",
        "lr = 0.001\n",
        "complex_model.compile(loss=tf.keras.losses.CategoricalCrossentropy(),\n",
        "              optimizer=tf.keras.optimizers.Adam(learning_rate=lr),\n",
        "              metrics=['accuracy'])"
      ]
    },
    {
      "cell_type": "code",
      "execution_count": 59,
      "metadata": {
        "id": "J_kVMO3bQ-1J"
      },
      "outputs": [
        {
          "name": "stdout",
          "output_type": "stream",
          "text": [
            "Epoch 1/10\n",
            "\u001b[1m252/252\u001b[0m \u001b[32m━━━━━━━━━━━━━━━━━━━━\u001b[0m\u001b[37m\u001b[0m \u001b[1m31s\u001b[0m 91ms/step - accuracy: 0.2644 - loss: 1.5889 - val_accuracy: 0.5417 - val_loss: 1.3548\n",
            "Epoch 2/10\n",
            "\u001b[1m252/252\u001b[0m \u001b[32m━━━━━━━━━━━━━━━━━━━━\u001b[0m\u001b[37m\u001b[0m \u001b[1m23s\u001b[0m 91ms/step - accuracy: 0.4257 - loss: 1.2911 - val_accuracy: 0.7454 - val_loss: 0.8336\n",
            "Epoch 3/10\n",
            "\u001b[1m252/252\u001b[0m \u001b[32m━━━━━━━━━━━━━━━━━━━━\u001b[0m\u001b[37m\u001b[0m \u001b[1m22s\u001b[0m 88ms/step - accuracy: 0.6380 - loss: 0.9423 - val_accuracy: 0.9213 - val_loss: 0.4211\n",
            "Epoch 4/10\n",
            "\u001b[1m252/252\u001b[0m \u001b[32m━━━━━━━━━━━━━━━━━━━━\u001b[0m\u001b[37m\u001b[0m \u001b[1m21s\u001b[0m 85ms/step - accuracy: 0.7804 - loss: 0.5694 - val_accuracy: 0.9259 - val_loss: 0.2668\n",
            "Epoch 5/10\n",
            "\u001b[1m252/252\u001b[0m \u001b[32m━━━━━━━━━━━━━━━━━━━━\u001b[0m\u001b[37m\u001b[0m \u001b[1m21s\u001b[0m 85ms/step - accuracy: 0.8556 - loss: 0.4186 - val_accuracy: 0.9907 - val_loss: 0.1251\n",
            "Epoch 6/10\n",
            "\u001b[1m252/252\u001b[0m \u001b[32m━━━━━━━━━━━━━━━━━━━━\u001b[0m\u001b[37m\u001b[0m \u001b[1m21s\u001b[0m 85ms/step - accuracy: 0.9169 - loss: 0.2843 - val_accuracy: 0.9907 - val_loss: 0.0839\n",
            "Epoch 7/10\n",
            "\u001b[1m252/252\u001b[0m \u001b[32m━━━━━━━━━━━━━━━━━━━━\u001b[0m\u001b[37m\u001b[0m \u001b[1m22s\u001b[0m 88ms/step - accuracy: 0.9512 - loss: 0.1808 - val_accuracy: 0.9907 - val_loss: 0.0842\n",
            "Epoch 8/10\n",
            "\u001b[1m252/252\u001b[0m \u001b[32m━━━━━━━━━━━━━━━━━━━━\u001b[0m\u001b[37m\u001b[0m \u001b[1m22s\u001b[0m 87ms/step - accuracy: 0.9495 - loss: 0.1833 - val_accuracy: 0.9815 - val_loss: 0.0548\n",
            "Epoch 9/10\n",
            "\u001b[1m252/252\u001b[0m \u001b[32m━━━━━━━━━━━━━━━━━━━━\u001b[0m\u001b[37m\u001b[0m \u001b[1m21s\u001b[0m 85ms/step - accuracy: 0.9648 - loss: 0.1293 - val_accuracy: 0.9815 - val_loss: 0.0583\n",
            "Epoch 10/10\n",
            "\u001b[1m252/252\u001b[0m \u001b[32m━━━━━━━━━━━━━━━━━━━━\u001b[0m\u001b[37m\u001b[0m \u001b[1m21s\u001b[0m 85ms/step - accuracy: 0.9777 - loss: 0.0817 - val_accuracy: 0.9861 - val_loss: 0.0476\n"
          ]
        }
      ],
      "source": [
        "# Train model\n",
        "epochs = 10\n",
        "cm_history = complex_model.fit( train_ds, validation_data=val_ds, epochs=epochs)"
      ]
    },
    {
      "cell_type": "code",
      "execution_count": 60,
      "metadata": {},
      "outputs": [],
      "source": [
        "# Let's monitor the loss curve of the training"
      ]
    },
    {
      "cell_type": "code",
      "execution_count": 61,
      "metadata": {},
      "outputs": [
        {
          "data": {
            "text/plain": [
              "<matplotlib.legend.Legend at 0x15b02621110>"
            ]
          },
          "execution_count": 61,
          "metadata": {},
          "output_type": "execute_result"
        },
        {
          "data": {
            "image/png": "[encoded data removed]",
            "text/plain": [
              "<Figure size 640x480 with 1 Axes>"
            ]
          },
          "metadata": {},
          "output_type": "display_data"
        }
      ],
      "source": [
        "plt.plot(cm_history.history['loss'],label='loss')\n",
        "plt.plot(cm_history.history['val_loss'],label='val_loss')\n",
        "plt.legend()"
      ]
    },
    {
      "cell_type": "code",
      "execution_count": 62,
      "metadata": {},
      "outputs": [
        {
          "data": {
            "text/plain": [
              "<matplotlib.legend.Legend at 0x15b02671550>"
            ]
          },
          "execution_count": 62,
          "metadata": {},
          "output_type": "execute_result"
        },
        {
          "data": {
            "image/png": "[encoded data removed]",
            "text/plain": [
              "<Figure size 640x480 with 1 Axes>"
            ]
          },
          "metadata": {},
          "output_type": "display_data"
        }
      ],
      "source": [
        "plt.plot(cm_history.history['accuracy'],label='accuracy')\n",
        "plt.plot(cm_history.history['val_accuracy'],label='val_accuracy')\n",
        "plt.legend()"
      ]
    },
    {
      "cell_type": "markdown",
      "metadata": {
        "id": "2zvpWxdMP8ue"
      },
      "source": [
        "# Model Evaluation"
      ]
    },
    {
      "cell_type": "code",
      "execution_count": 63,
      "metadata": {},
      "outputs": [],
      "source": [
        "# function to get actual and predicted labels from the tf.data.Dataset\n",
        "def get_actual_predicted_labels(model, dataset): \n",
        "  actual = [labels for _, labels in dataset.unbatch()]\n",
        "  predicted = model.predict(dataset)\n",
        "\n",
        "  actual = tf.stack(actual, axis=0)\n",
        "  actual = tf.argmax(actual, axis=1)\n",
        "  predicted = tf.concat(predicted, axis=0)\n",
        "  predicted = tf.argmax(predicted, axis=1)\n",
        "\n",
        "  return actual, predicted"
      ]
    },
    {
      "cell_type": "markdown",
      "metadata": {},
      "source": [
        "### simple model evaluation"
      ]
    },
    {
      "cell_type": "code",
      "execution_count": 64,
      "metadata": {
        "id": "AYya-Rg2P67t"
      },
      "outputs": [],
      "source": [
        "# Evaluate Models using accuracy, precision, recall, and F1-score metrics."
      ]
    },
    {
      "cell_type": "code",
      "execution_count": 65,
      "metadata": {},
      "outputs": [
        {
          "name": "stdout",
          "output_type": "stream",
          "text": [
            "\u001b[1m55/55\u001b[0m \u001b[32m━━━━━━━━━━━━━━━━━━━━\u001b[0m\u001b[37m\u001b[0m \u001b[1m0s\u001b[0m 1ms/step - accuracy: 0.9920 - loss: 0.0280\n",
            "Accuracy:  0.9953917264938354\n"
          ]
        }
      ],
      "source": [
        "# Let's see the model accuracy on the test_ds\n",
        "loss, accuracy = simple_model.evaluate(test_ds)\n",
        "print(\"Accuracy: \", accuracy)"
      ]
    },
    {
      "cell_type": "code",
      "execution_count": 66,
      "metadata": {},
      "outputs": [
        {
          "name": "stdout",
          "output_type": "stream",
          "text": [
            "\u001b[1m55/55\u001b[0m \u001b[32m━━━━━━━━━━━━━━━━━━━━\u001b[0m\u001b[37m\u001b[0m \u001b[1m0s\u001b[0m 2ms/step\n",
            "Precision [0.98148148 1.         1.         1.         1.        ]\n",
            "Recall: [1.    1.    0.975 1.    1.   ]\n",
            "F1-score: [0.99065421 1.         0.98734177 1.         1.        ]\n"
          ]
        }
      ],
      "source": [
        "#precision, recall, fbeta, support\n",
        "actual, predicted = get_actual_predicted_labels(simple_model, test_ds)\n",
        "precision, recall, f1score, s = metrics.precision_recall_fscore_support(actual, predicted)\n",
        "print(\"Precision\", precision)\n",
        "print(\"Recall:\", recall)\n",
        "print(\"F1-score:\", f1score)"
      ]
    },
    {
      "cell_type": "code",
      "execution_count": 67,
      "metadata": {},
      "outputs": [
        {
          "data": {
            "image/png": "[encoded data removed]",
            "text/plain": [
              "<Figure size 640x480 with 2 Axes>"
            ]
          },
          "metadata": {},
          "output_type": "display_data"
        }
      ],
      "source": [
        "confusion_metrics = metrics.confusion_matrix(actual, predicted)\n",
        "cm_display = metrics.ConfusionMatrixDisplay(confusion_metrics, display_labels=[0,1,2,3,4])\n",
        "cm_display.plot()\n",
        "plt.show()"
      ]
    },
    {
      "cell_type": "markdown",
      "metadata": {},
      "source": [
        "### complex model evaluation"
      ]
    },
    {
      "cell_type": "code",
      "execution_count": 68,
      "metadata": {},
      "outputs": [
        {
          "name": "stdout",
          "output_type": "stream",
          "text": [
            "\u001b[1m55/55\u001b[0m \u001b[32m━━━━━━━━━━━━━━━━━━━━\u001b[0m\u001b[37m\u001b[0m \u001b[1m1s\u001b[0m 17ms/step - accuracy: 0.9519 - loss: 0.1458\n",
            "Accuracy:  0.9677419066429138\n"
          ]
        }
      ],
      "source": [
        "# Let's see the model accuracy on the test_ds\n",
        "loss, accuracy = complex_model.evaluate(test_ds)\n",
        "print(\"Accuracy: \", accuracy)"
      ]
    },
    {
      "cell_type": "code",
      "execution_count": 69,
      "metadata": {},
      "outputs": [
        {
          "name": "stdout",
          "output_type": "stream",
          "text": [
            "\u001b[1m55/55\u001b[0m \u001b[32m━━━━━━━━━━━━━━━━━━━━\u001b[0m\u001b[37m\u001b[0m \u001b[1m2s\u001b[0m 32ms/step\n",
            "Precision [0.96363636 1.         0.97222222 0.94230769 0.975     ]\n",
            "Recall: [1.         0.97142857 0.875      1.         0.975     ]\n",
            "F1-score: [0.98148148 0.98550725 0.92105263 0.97029703 0.975     ]\n"
          ]
        }
      ],
      "source": [
        "#precision, recall, fbeta, support\n",
        "actual, predicted = get_actual_predicted_labels(complex_model, test_ds)\n",
        "precision, recall, f1score, s = metrics.precision_recall_fscore_support(actual, predicted)\n",
        "print(\"Precision\", precision)\n",
        "print(\"Recall:\", recall)\n",
        "print(\"F1-score:\", f1score)"
      ]
    },
    {
      "cell_type": "code",
      "execution_count": 70,
      "metadata": {},
      "outputs": [
        {
          "data": {
            "image/png": "[encoded data removed]",
            "text/plain": [
              "<Figure size 640x480 with 2 Axes>"
            ]
          },
          "metadata": {},
          "output_type": "display_data"
        }
      ],
      "source": [
        "confusion_metrics = metrics.confusion_matrix(actual, predicted)\n",
        "cm_display = metrics.ConfusionMatrixDisplay(confusion_metrics, display_labels=[0,1,2,3,4])\n",
        "cm_display.plot()\n",
        "plt.show()"
      ]
    },
    {
      "cell_type": "markdown",
      "metadata": {},
      "source": [
        "# Overall summary"
      ]
    },
    {
      "cell_type": "markdown",
      "metadata": {},
      "source": [
        "The training data is too small (1440) to make a general statement\n",
        "SVM gives reasonable accuracy on all the training data\n",
        "Even a simple NN model gives reasonable accuracy on the held out test data\n",
        "A complex NN model with BiDirectional LSTMs doesn't give any better accuracy than the simple NN model"
      ]
    },
    {
      "cell_type": "markdown",
      "metadata": {
        "id": "DFh53A9-NQ0k"
      },
      "source": [
        "# Future Improvements"
      ]
    },
    {
      "cell_type": "markdown",
      "metadata": {},
      "source": [
        "We can try transformers for the interpretable results with self attention <br>\n",
        "Also, we can directly try LLMs with prompt-engineering with Few shot / 1-shot learning <br>\n",
        "\n",
        "Use the given test set to run the prediction\n"
      ]
    },
    {
      "cell_type": "markdown",
      "metadata": {},
      "source": [
        "# Backup"
      ]
    },
    {
      "cell_type": "code",
      "execution_count": 71,
      "metadata": {},
      "outputs": [],
      "source": [
        "# extend the model to take text input for inference instead of vectorized;\n",
        "# Just stack up the vectorize_layer and compile this\n",
        "export_model = tf.keras.Sequential([\n",
        "  vectorize_layer,\n",
        "  simple_model,\n",
        "])\n",
        "\n",
        "export_model.compile(\n",
        "    loss=losses.CategoricalCrossentropy(), optimizer=\"adam\", metrics=['accuracy']\n",
        ")"
      ]
    },
    {
      "cell_type": "code",
      "execution_count": 72,
      "metadata": {},
      "outputs": [
        {
          "data": {
            "text/html": [
              "<pre style=\"white-space:pre;overflow-x:auto;line-height:normal;font-family:Menlo,'DejaVu Sans Mono',consolas,'Courier New',monospace\"><span style=\"font-weight: bold\">Model: \"sequential_2\"</span>\n",
              "</pre>\n"
            ],
            "text/plain": [
              "\u001b[1mModel: \"sequential_2\"\u001b[0m\n"
            ]
          },
          "metadata": {},
          "output_type": "display_data"
        },
        {
          "data": {
            "text/html": [
              "<pre style=\"white-space:pre;overflow-x:auto;line-height:normal;font-family:Menlo,'DejaVu Sans Mono',consolas,'Courier New',monospace\">┏━━━━━━━━━━━━━━━━━━━━━━━━━━━━━━━━━┳━━━━━━━━━━━━━━━━━━━━━━━━┳━━━━━━━━━━━━━━━┓\n",
              "┃<span style=\"font-weight: bold\"> Layer (type)                    </span>┃<span style=\"font-weight: bold\"> Output Shape           </span>┃<span style=\"font-weight: bold\">       Param # </span>┃\n",
              "┡━━━━━━━━━━━━━━━━━━━━━━━━━━━━━━━━━╇━━━━━━━━━━━━━━━━━━━━━━━━╇━━━━━━━━━━━━━━━┩\n",
              "│ text_vectorization              │ ?                      │             <span style=\"color: #00af00; text-decoration-color: #00af00\">0</span> │\n",
              "│ (<span style=\"color: #0087ff; text-decoration-color: #0087ff\">TextVectorization</span>)             │                        │               │\n",
              "├─────────────────────────────────┼────────────────────────┼───────────────┤\n",
              "│ sequential (<span style=\"color: #0087ff; text-decoration-color: #0087ff\">Sequential</span>)         │ ?                      │        <span style=\"color: #00af00; text-decoration-color: #00af00\">80,045</span> │\n",
              "└─────────────────────────────────┴────────────────────────┴───────────────┘\n",
              "</pre>\n"
            ],
            "text/plain": [
              "┏━━━━━━━━━━━━━━━━━━━━━━━━━━━━━━━━━┳━━━━━━━━━━━━━━━━━━━━━━━━┳━━━━━━━━━━━━━━━┓\n",
              "┃\u001b[1m \u001b[0m\u001b[1mLayer (type)                   \u001b[0m\u001b[1m \u001b[0m┃\u001b[1m \u001b[0m\u001b[1mOutput Shape          \u001b[0m\u001b[1m \u001b[0m┃\u001b[1m \u001b[0m\u001b[1m      Param #\u001b[0m\u001b[1m \u001b[0m┃\n",
              "┡━━━━━━━━━━━━━━━━━━━━━━━━━━━━━━━━━╇━━━━━━━━━━━━━━━━━━━━━━━━╇━━━━━━━━━━━━━━━┩\n",
              "│ text_vectorization              │ ?                      │             \u001b[38;5;34m0\u001b[0m │\n",
              "│ (\u001b[38;5;33mTextVectorization\u001b[0m)             │                        │               │\n",
              "├─────────────────────────────────┼────────────────────────┼───────────────┤\n",
              "│ sequential (\u001b[38;5;33mSequential\u001b[0m)         │ ?                      │        \u001b[38;5;34m80,045\u001b[0m │\n",
              "└─────────────────────────────────┴────────────────────────┴───────────────┘\n"
            ]
          },
          "metadata": {},
          "output_type": "display_data"
        },
        {
          "data": {
            "text/html": [
              "<pre style=\"white-space:pre;overflow-x:auto;line-height:normal;font-family:Menlo,'DejaVu Sans Mono',consolas,'Courier New',monospace\"><span style=\"font-weight: bold\"> Total params: </span><span style=\"color: #00af00; text-decoration-color: #00af00\">80,045</span> (312.68 KB)\n",
              "</pre>\n"
            ],
            "text/plain": [
              "\u001b[1m Total params: \u001b[0m\u001b[38;5;34m80,045\u001b[0m (312.68 KB)\n"
            ]
          },
          "metadata": {},
          "output_type": "display_data"
        },
        {
          "data": {
            "text/html": [
              "<pre style=\"white-space:pre;overflow-x:auto;line-height:normal;font-family:Menlo,'DejaVu Sans Mono',consolas,'Courier New',monospace\"><span style=\"font-weight: bold\"> Trainable params: </span><span style=\"color: #00af00; text-decoration-color: #00af00\">80,045</span> (312.68 KB)\n",
              "</pre>\n"
            ],
            "text/plain": [
              "\u001b[1m Trainable params: \u001b[0m\u001b[38;5;34m80,045\u001b[0m (312.68 KB)\n"
            ]
          },
          "metadata": {},
          "output_type": "display_data"
        },
        {
          "data": {
            "text/html": [
              "<pre style=\"white-space:pre;overflow-x:auto;line-height:normal;font-family:Menlo,'DejaVu Sans Mono',consolas,'Courier New',monospace\"><span style=\"font-weight: bold\"> Non-trainable params: </span><span style=\"color: #00af00; text-decoration-color: #00af00\">0</span> (0.00 B)\n",
              "</pre>\n"
            ],
            "text/plain": [
              "\u001b[1m Non-trainable params: \u001b[0m\u001b[38;5;34m0\u001b[0m (0.00 B)\n"
            ]
          },
          "metadata": {},
          "output_type": "display_data"
        }
      ],
      "source": [
        "# model summary of the export_model\n",
        "export_model.summary()"
      ]
    },
    {
      "cell_type": "code",
      "execution_count": 73,
      "metadata": {},
      "outputs": [],
      "source": [
        "# Code to visualize model\n",
        "#export_model.build()\n",
        "#tf.keras.utils.plot_model(export_model, show_shapes=True, show_dtype=True, \n",
        "                          #show_layer_names=True, rankdir='TB', show_layer_activations=True, \\\n",
        "                          #expand_nested=True, dpi=80)"
      ]
    },
    {
      "cell_type": "code",
      "execution_count": 74,
      "metadata": {},
      "outputs": [],
      "source": [
        "raw_val_ds = tf.data.Dataset.from_tensor_slices((train_df['CText'], train_df['Label']))\n",
        "raw_val_ds = raw_val_ds.shuffle(buffer_size=1000)\n",
        "raw_val_ds = raw_val_ds.skip(1000)"
      ]
    },
    {
      "cell_type": "code",
      "execution_count": 75,
      "metadata": {},
      "outputs": [],
      "source": [
        "raw_val_ds = raw_val_ds.batch(batch_size=batch_size)"
      ]
    },
    {
      "cell_type": "code",
      "execution_count": 76,
      "metadata": {},
      "outputs": [
        {
          "name": "stdout",
          "output_type": "stream",
          "text": [
            "tf.Tensor(\n",
            "[b'spike lee backs student directors filmmaker spike lee says black representation stronger ever cinema tv true power entertainment lies behind camera hate director urged students old atlanta university morehouse college seek gatekeeper positions behind scenes lee told work corporate ladder everybody actor everybody make record spoke part discussion panel led retrospective films returning old university educates african american students lee discussed challenges facing black people entertainment industry even denzel washington getting movie comes time movie go one gatekeepers lee said told aspiring young filmmakers audience ignore nontraditional routes getting movie made including raising funds independently releasing films straight dvd huge market yearold director said something looked upon stepchild lee made films including jungle fever right thing summer sam hit gotta'\n",
            " b'mp shock long lost daughter labour mp stephen pound told shock joy learning fathered daughter control wild lucy tracked mr pound birth mother told known precious school despite told nutter died sea found reference mr pound friends reunited lucy mother kept pregnancy secret adopted four weeks mr pound found last year happened lucy wrote parliamentary office saying believed father mr pound married two teenage children said nutter sailor dead said first reaction wonder victim setup realised dates fitted pretty horrible thing pretty happy ending felt guilt marrow bones said ealing north mp blame lucy mother pretty much control conceived different time pretty wild mr pound says rang lucy soon got letter met contact ever since describing first meeting london king cross station said earth went feet walking across euston road took arm take across immediate connection finishing sentences lucy adopted family essex wants remain anonymous sake adoptive father children mr pound said wife maggie fully supportive two children emily pelham pleased older sister'\n",
            " b'sony psp tipped musthave sony playstation portable top uk gadget according roundup ultimate gizmos compiled stuff magazine beats ipod second place top ten essentials list predicts gadgetlovers likely covet year owning gadgets set gadget lover back \\xc2\\xa3 \\xc2\\xa3 cheaper last year list due falling manufacturing costs making gadgets affordable portable gadgets dominate list including sharp g mobile phone pentax optio sv digital camera samsung yepp yh video jukebox year essentials shows gadgets cheaper sexier indispensable ever got point live lives without certain technology said adam vaughan editor stuff essentials proliferation gadgets homes inexorably altering role high street lives thinks mr vaughan take digital cameras would pay develop entire film photos legitimate downloads would travel miles record shop could download song minutes p asks next year see new set technologies capturing imaginations gadget lovers stuff predicts xbox highdefinition tv mp mobiles among list musthaves dominate says spring launch psp uk eagerly awaited gaming fans'\n",
            " b'businesses fail plan hiv companies fail draw plans cope hivaids affects people country new research says finding comes report published thursday world economic forum harvard un aids agency companies responding proactively social business threats said dr kate taylor head wef global health initiative nearly business leaders countries surveyed business hivaids commitment action dr taylor described level action taken businesses revealed report little late issue highlighted business world leaders world economic forum meets davos switzerland next week wef report shows despite fact people contract hivaids every day concern among businesses dropped last months policies place address disease could business leaders surveyed say estimate prevalence hiv among staff un programme tackling aids unaids pointed clear strategy dealing hivaids good investment well socially responsible one company plan angloamerican international mining company estimates hiv prevalence among strong southern african workforce last two years company implemented extensive voluntary counselling testing hiv infection coupled antiretroviral therapy employees progressing aids employees accessed remained treatment well returned normal work effective action hivaids synonymous good business management leads profitable sustainable operations said brian brink senior vicepresident health angloamerican companies encourage workers know hiv status making routine monitoring blood pressure cholesterol said providing access treatment critical part across subsaharan africa even countries hiv prevalence around companies formal hivaids policies place according report gap even wider china ethiopia india nigeria russia socalled next wave countries predicted experience highest numbers new hivaids cases worldwide report adds important building block understanding business community experiencing hivaids epidemic whether reacting said david bloom professor economics demography harvard school public health wef report concludes businesses need understand exposure hivaids risks come good local practices manage key priority high lowprevalence settings said wef establish policy based nondiscrimination confidentiality'], shape=(4,), dtype=string)\n",
            "tf.Tensor([1 2 4 0], shape=(4,), dtype=int32)\n"
          ]
        }
      ],
      "source": [
        "for t,l in raw_val_ds.take(1):\n",
        "    print(t)\n",
        "    print(l)"
      ]
    },
    {
      "cell_type": "code",
      "execution_count": 77,
      "metadata": {},
      "outputs": [
        {
          "name": "stdout",
          "output_type": "stream",
          "text": [
            "Review tf.Tensor(\n",
            "[b'dallaglio eyeing lions tour place former england captain lawrence dallaglio still harbours hopes place british irish lions tour new zealand lions coach sir clive woodward made clear pick squad tour next summer based form shown six nations championship dallaglio called time england earlier year said assure let anyone know takes offer told daily telegraph dallaglio toured south africa lions forced home early knee injury trip australia three years ago yearold also felt concentrating club rugby could prolonged international shelflife said good shape fresh without another tests clock witnessed close quarters sunday heineken cup match leicester certainly feel place alongside players many trip fit playing well certainly available clive feels need look outside international crop fine need look far'\n",
            " b'x factor show gets second series tv talent show x factor return second series recommissioned itv judges simon cowell louis walsh sharon osbourne discussions sign new series final first series take place december last saturday show beaten ratings bbc strictly come dancing working x factor blast predict series two even better said cowell think production team done amazing job added pop idolstyle show votes group contestant every week two receive lowest public vote perform second time judges make final decision rowetta satchell steve brookstein tabby callaghan group g remaining finalists itv controller entertainment claudia rosencrantz said hesitation recommissioning show much come series build towards final next month great secured terrific format viewers another series said'\n",
            " b'huge rush jet airways shares indian airline jet airways initial public offering oversubscribed times bankers said friday bids higher end price range rupees jet airways lowfare airline founded londonbased extravel agent naresh goya controls indian domestic airline market sold equity million shares bid raise \\xc2\\xa3m price shares begin trading agreed weekend bankers said demand ipo impressive believe next two years domestic aviation sector promises strong growth even though fuel prices could high said hiten mehta manager merchant banking firm fortune financial services india began open domestic airline market previously dominated staterun carrier indian airlines jet began flying competitors including air deccan air sahara budget carriers kingfisher airlines spicejet planning launch operations may year jet aircraft runs scheduled flights daily within india recently government permission fly london singapore kuala lumpur'\n",
            " b'iranian mps threaten mobile deal turkey biggest private mobile firm could bail bn bn deal build network iran mps slashed stake project conservatives parliament say turkcell stake irancell new network cut already given veto foreign investment deals following allegations turkish firms involvement israel turkcell says may give deal altogether iran currently one heavily congested mobile network long waiting lists new subscribers turkcell signed contract new network september new operator planned offer subscriptions well existing firm price tag parliamentary commission ruled turkcell controlling stake high say turkcell security risk alleged business ties israel parliament whole dominated religious conservatives vote ruling tuesday turkcell said ruling would make difficult turkcell financial consolidation irancell stake would reduced less management control financial consolidation irancell cannot achieved realisation project become risky warned statement firm refused comment whether business dealings israel although like almost gsm operators worldwide interconnection deal israeli networks customers use phones two countries strengthened ties defence economic issues israeli industry minister ehud olmert reported june attended meeting ruhi dogusoy turkcell chief operating officer executives israeli telecoms firms telecoms one two areas specifically targeted new veto law foreign investments passed earlier september airports source controversy army closed tehran new imam khomeini international airport opening day may allegation partturkish tav consortium built ran links israel'], shape=(4,), dtype=string)\n",
            "Label tf.Tensor([3 1 0 0], shape=(4,), dtype=int32)\n"
          ]
        }
      ],
      "source": [
        "first_text, first_label = next(iter(raw_val_ds))\n",
        "print(\"Review\", first_text)\n",
        "print(\"Label\", first_label)\n",
        "#print(\"Vectorized review\", vectorize_text(first_text, first_label))"
      ]
    },
    {
      "cell_type": "code",
      "execution_count": 78,
      "metadata": {},
      "outputs": [],
      "source": [
        "#one hot for the raw_val_ds\n",
        "def one_hot_label(text, label):\n",
        "  return text, tf.one_hot(label, 5)\n",
        "\n",
        "raw_val_ds=raw_val_ds.map(one_hot_label)"
      ]
    },
    {
      "cell_type": "code",
      "execution_count": 79,
      "metadata": {},
      "outputs": [
        {
          "name": "stdout",
          "output_type": "stream",
          "text": [
            "Review tf.Tensor(\n",
            "[b'china role yukos splitup china lent russia bn \\xc2\\xa3bn help russian government renationalise key yuganskneftegas unit oil group yukos revealed kremlin said tuesday bn russian state bank veb lent stateowned rosneft help buy yugansk turn came chinese banks revelation came russian government said rosneft signed longterm oil supply deal china deal sees rosneft receive bn credits china cnpc according russian newspaper vedomosti credits would used pay loans rosneft received finance purchase yugansk reports said cnpc offered yugansk return providing finance company opted longterm oil supply deal instead analysts said one factor might influenced chinese decision possibility litigation yukos yugansk former owner cnpc become shareholder rosneft veb declined comment two companies rosneft cnpc agreed prepayment longterm deliveries said russian oil official sergei oganesyan nothing unusual prepayment five six years announcements help explain rosneft mediumsized indebted relatively unknown firm able finance surprise purchase yugansk yugansk sold bn auction last year help yukos pay part bn bill unpaid taxes fines embattled russian oil giant previously filed bankruptcy protection us court attempt prevent forced sale main production arm yugansk sold little known shell company turn bought rosneft yukos claims downfall punishment political ambitions founder mikhail khodorkovsky country richest man mr khodorkovsky trial fraud tax evasion deal rosneft cnpc seen part china desire secure longterm oil supplies feed booming economy china thirst products crude oil copper steel helped pushed global commodity prices record levels clearly chinese trying get leverage russia said dmitry lukashov analyst brokerage aton understand property rights russia important rights interested guaranteeing supplies price oil fixed deal unlikely could profitable chinese mr lukashov continued rosneft desperate need cash good deal'\n",
            " b'ferguson puts faith youngsters manchester united manager sir alex ferguson said regrets secondstring side lost away fenerbahce champions league ferguson said good thing manager control team pick care united important disappointed result team selected game important young lads remember next time come better ferguson admitted side wellbeaten turks result meant finished second group behind lyon added know play like showed lack strength complaints scoreline second half good moments attack situation take one chance game petered us think made much difference whether group finished second still could get inter ac milan juventus bayern barcelona real madrid among runnersup let fate decide works'\n",
            " b'music mogul fuller sells company pop idol supremo simon fuller sold entertainment company us entrepreneur \\xc2\\xa3m deal robert sillerman sports entertainment enterprises renamed cfx recently also bought share estate elvis presley mr fuller appointed cfx board plan implement company creative strategy firm handles roster music artists tv shows pr strategies stars including beckhams deal sees mr fuller receive \\xc2\\xa3m cash million shares sports entertainment also \\xc2\\xa3m either cash stocks end financial year june mr fuller signed longterm agreement company see continue expand develop entertainment brands said hugely exciting new partnership entertainment ckx provide powerful platform global growth allow us fully take advantage amazing opportunities lie ahead cannot wait get started mr fuller creative drive behind pop idol us offspring american idol management runs careers many successful contestants including young gareth gates kelly clarkson company set years ago mr fuller taking name first successful single paul hardcastle fuller driving force behind spice girls phenomenon using canny marketing catchy pop songs secure place lucrative girl group history put together club tv show well music career mr sillerman deal buy presley estate sees control operation graceland well money late star music films presley daughter lisa marie retains possession graceland many father personal effects'\n",
            " b'new drink limit would cut toll lives previously thought could saved cutting drinkdrive limits third report says university college london research claims cutting limit mg alcohol per ml blood mg would save lives year findings published parliamentary advisory council transport safety mps due vote government road safety bill bill includes changes speeding fines drinkdrive limit research carried transport expert professor richard allsop says cutting limit would also lead fewer serious injuries uk roads compared estimates would save country \\xc2\\xa3m year previous estimate contained department transport document suggested move could save lives year findings based assumption drivers currently keep legal limit would continue lowered tend exceed limit slightly would also lower drinking professor allsop said reducing limit mg mg expected save around lives year around half die accidents driver bac blood alcohol content within mg current limit one driving weekend evenings nights need moderate drinking achieve fewer still times ministers support lower limit saying clear would major impact drink drive casualties believe educating drivers important aa motoring trust said sure affect dropping limit would drivers attitudes drinkdriving road safety head andrew howard said remains seen whether social disapproval drinking driver stay current rate alcohol limit cut parliamentarians need consider carefully britons police consensus much effectively weight enforcement alone liberal democrat transport spokesman john thurso said drinkdriving remained major killer figures showing worrying rise number accidents involving drivers drinking said drop number drivers breathalysed since said government needed address wanted reduce danger caused drinkdriving road safety bill gets second reading tuesday would allow results roadside breath tests used court currently blood test needed also includes plans staggered speeding fines points system penalising drivers exceed limits wide margin caught going criticised road safety campaigners including labour backbencher gwyneth dunwoody says reduce incentive drivers stay within limits residential areas leading road casualties article times newspaper ms dunwoody chairs transport select committee says slight increases low car speeds increase hugely risks pedestrians cyclists quite simple hit someone mph per cent chance survival going mph nine times ten die'], shape=(4,), dtype=string)\n",
            "Label tf.Tensor(\n",
            "[[1. 0. 0. 0. 0.]\n",
            " [0. 0. 0. 1. 0.]\n",
            " [0. 1. 0. 0. 0.]\n",
            " [0. 0. 1. 0. 0.]], shape=(4, 5), dtype=float32)\n"
          ]
        }
      ],
      "source": [
        "first_text, first_label = next(iter(raw_val_ds))\n",
        "print(\"Review\", first_text)\n",
        "print(\"Label\", first_label)"
      ]
    },
    {
      "cell_type": "code",
      "execution_count": 80,
      "metadata": {},
      "outputs": [
        {
          "name": "stdout",
          "output_type": "stream",
          "text": [
            "Review tf.Tensor(\n",
            "[b'google toolbar sparks concern search engine firm google released trial tool concerning net users directs people preselected commercial websites autolink feature comes google latest toolbar provides links webpage amazoncom finds book isbn number site also links google map service address car firm carfax licence plate google said feature available us adds useful links users concerned google dominant position search engine market place could mean would giving competitive edge firms like amazon autolink works creating link website based information contained webpage even link specified whether publisher page given permission user clicks autolink feature google toolbar webpage book unique isbn number would link directly amazon website could mean online libraries list isbn book numbers find directing users amazoncom whether like websites paid advertising pages may also directing people rival services dan gillmor founder grassroots media supports citizenbased media said tool bad idea unfortunate move company looking continue hypergrowth statement google said feature still beta ie trial stage company welcomed feedback users said user choose never click autolink button web pages views never modified addition user choose disable autolink feature entirely time new tool compared smart tags feature microsoft users widely criticised net users later dropped microsoft concerns trademark use raised smart tags allowed microsoft link word web page another site chosen company google said none companies received autolinks paid service users said autolink would fair websites sign allow feature work pages received revenue click commercial site cory doctorow european outreach coordinator digital civil liberties group electronic fronter foundation said google penalised market dominance course google allowed direct people whatever proxies chooses end user would want know choose use service much google paid substitute companies ones chosen google mr doctorow said objection would users forced using autolink tricked using service'\n",
            " b'elvis set top uk singles chart rock n roll legend elvis set top uk singles chart sunday years death rerelease hit song jailhouse rock outselling x factor winner steve brockstein cover odds copies tuesday record make top spot elvis th uk number one last time topped charts remix littleknown song little less conversation number one june jailhouse rock reach number one sunday th history uk pop charts song first topped charts chart analysts say elvis could score th number one well record one night released following week followed week fool part record company sonybmg new elvis campaign called ambitious singles release campaign history uk record industry'\n",
            " b'microsoft plans safer id system microsoft planning make windows internet explorer secure including software give people control personal information info cards help people manage personal details pcs make online services safer said microsoft microsoft two previous programs passport hailstorm aimed protect users criticised id fraud one uk fastestgrowing crimes criminals netting estimated \\xc2\\xa3bn last year quarter uk adults either id stolen via hitech means knows someone recent report magazine found microsoft developing new version internet explorer browser operating system windows codenamed longhorn michael stephenson director microsoft windows server division would confirm however whether new info cards id system built current windows xp version longhorn trying make enduser experience simple possible mr stephenson said system would differ previous attempts make online transactions secure said microsoft passport hailstorm stored user information centrally net latest system store data user pc going put control digital ids hands enduser enduser full control said mr stephenson hailstorm criticised privacy campaigners putting much sensitive information hands single company passport provides single login one website stores basic personal information popularity suffered security scares million passport accounts left vulnerable online theft malicious hackers flaw system exploited online auction site ebay stopped supporting january although flaw fixed microsoft come regular criticism number security loopholes internet explorer last year released major security update windows service pack combat security concerns longhorn due released commercially late updated version internet explorer due release later year'\n",
            " b'streets album year streets aka british rapper songwriter mike skinner topped poll find year best album grand come free beat keane hope fears second place franz ferdinand selftitled album third q magazine poll skinner uses blunt beats streetwise lyrics things falling love drink drugs q magazine said grand come free captured country mood way one could predicted grand come free second album streets followed original pirate material q magazine also praise runnersup poll keane hopes fears described revelatory debut showed songwriting flair spare also said franz ferdinand album sounded natural unforced underproduced rock band u latest album dismantle atomic bomb came fourth razorlight night fifth place others notables list included dizzee rascal number zutons estelle came joss stone th jamelia took th place'], shape=(4,), dtype=string)\n",
            "Label tf.Tensor(\n",
            "[[0. 0. 0. 0. 1.]\n",
            " [0. 1. 0. 0. 0.]\n",
            " [0. 0. 0. 0. 1.]\n",
            " [0. 1. 0. 0. 0.]], shape=(4, 5), dtype=float32)\n"
          ]
        }
      ],
      "source": [
        "first_text, first_label = next(iter(raw_val_ds))\n",
        "print(\"Review\", first_text)\n",
        "print(\"Label\", first_label)"
      ]
    },
    {
      "cell_type": "code",
      "execution_count": 81,
      "metadata": {},
      "outputs": [
        {
          "name": "stdout",
          "output_type": "stream",
          "text": [
            "\u001b[1m110/110\u001b[0m \u001b[32m━━━━━━━━━━━━━━━━━━━━\u001b[0m\u001b[37m\u001b[0m \u001b[1m1s\u001b[0m 2ms/step - accuracy: 0.9916 - loss: 0.0000e+00\n"
          ]
        },
        {
          "data": {
            "text/plain": [
              "[0.0, 0.0, 0.9954545497894287, 0.9954545497894287]"
            ]
          },
          "execution_count": 81,
          "metadata": {},
          "output_type": "execute_result"
        }
      ],
      "source": [
        "# Test it with `raw_test_ds`, which yields raw strings\n",
        "export_model.evaluate(raw_val_ds)"
      ]
    },
    {
      "cell_type": "code",
      "execution_count": 82,
      "metadata": {
        "id": "1UQEl5E0RCj4"
      },
      "outputs": [],
      "source": [
        "# Confusion matrix  to provide a visual understanding of the model performance."
      ]
    },
    {
      "cell_type": "code",
      "execution_count": 83,
      "metadata": {},
      "outputs": [],
      "source": [
        "examples = tf.constant([\"this is bbc news\",\n",
        "                        \"There is an election today\",\n",
        "                        ])"
      ]
    },
    {
      "cell_type": "code",
      "execution_count": 84,
      "metadata": {},
      "outputs": [
        {
          "name": "stdout",
          "output_type": "stream",
          "text": [
            "\u001b[1m1/1\u001b[0m \u001b[32m━━━━━━━━━━━━━━━━━━━━\u001b[0m\u001b[37m\u001b[0m \u001b[1m0s\u001b[0m 169ms/step\n"
          ]
        },
        {
          "data": {
            "text/plain": [
              "array([3, 3], dtype=int64)"
            ]
          },
          "execution_count": 84,
          "metadata": {},
          "output_type": "execute_result"
        }
      ],
      "source": [
        "np.argmax(export_model.predict(examples), axis=1)"
      ]
    },
    {
      "cell_type": "code",
      "execution_count": 85,
      "metadata": {},
      "outputs": [],
      "source": [
        "given_test_ds = tf.data.Dataset.from_tensor_slices((test_df['CText']))"
      ]
    }
  ],
  "metadata": {
    "colab": {
      "provenance": []
    },
    "kernelspec": {
      "display_name": "Python 3",
      "name": "python3"
    },
    "language_info": {
      "codemirror_mode": {
        "name": "ipython",
        "version": 3
      },
      "file_extension": ".py",
      "mimetype": "text/x-python",
      "name": "python",
      "nbconvert_exporter": "python",
      "pygments_lexer": "ipython3",
      "version": "3.11.4"
    }
  },
  "nbformat": 4,
  "nbformat_minor": 0
}
